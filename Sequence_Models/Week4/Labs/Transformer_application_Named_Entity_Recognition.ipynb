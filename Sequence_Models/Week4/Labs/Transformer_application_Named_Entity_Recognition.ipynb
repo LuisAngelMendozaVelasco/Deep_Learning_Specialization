{
  "cells": [
    {
      "cell_type": "markdown",
      "metadata": {
        "id": "4XznX7tKSmNV"
      },
      "source": [
        "# Transformer Network Application: Named-Entity Recognition\n",
        "\n",
        "<a target=\"_blank\" href=\"https://colab.research.google.com/github/LuisAngelMendozaVelasco/Deep_Learning_Specialization/blob/master/Sequence_Models/Week4/Labs/Transformer_application_Named_Entity_Recognition.ipynb\"><img src=\"https://www.tensorflow.org/images/colab_logo_32px.png\" />Run in Google Colab</a>"
      ]
    },
    {
      "cell_type": "markdown",
      "metadata": {
        "id": "zHCwHnNwSmNZ"
      },
      "source": [
        "Welcome to Week 4's second ungraded lab. In this notebook you'll explore one application of the transformer architecture that you built in the previous assignment.\n",
        "\n",
        "**After this assignment you'll be able to**:\n",
        "\n",
        "* Use tokenizers and pre-trained models from the HuggingFace Library.\n",
        "* Fine-tune a pre-trained transformer model for Named-Entity Recognition"
      ]
    },
    {
      "cell_type": "markdown",
      "metadata": {
        "id": "f7Pxpr5pSmNZ"
      },
      "source": [
        "## Table of Contents\n",
        "\n",
        "- [Packages](#0)\n",
        "- [1 - Named-Entity Recogniton to Process Resumes](#1)\n",
        "    - [1.1 - Data Cleaning](#1-1)\n",
        "    - [1.2 - Padding and Generating Tags](#1-2)\n",
        "    - [1.3 - Tokenize and Align Labels with 🤗 Library](#1-3)\n",
        "        - [Exercise 1 - tokenize_and_align_labels](#ex-1)\n",
        "    - [1.4 - Optimization](#1-4)"
      ]
    },
    {
      "cell_type": "markdown",
      "metadata": {
        "id": "H5MuSI4pSmNa"
      },
      "source": [
        "<a name='0'></a>\n",
        "## Packages\n",
        "\n",
        "Run the following cell to load the packages you'll need."
      ]
    },
    {
      "cell_type": "code",
      "execution_count": 1,
      "metadata": {
        "id": "-oUEHGSsSmNb"
      },
      "outputs": [],
      "source": [
        "import pandas as pd\n",
        "import numpy as np\n",
        "import tensorflow as tf\n",
        "import json\n",
        "from sklearn.metrics import classification_report\n",
        "import logging\n",
        "import re\n",
        "from tqdm.notebook import tqdm\n",
        "from keras import preprocessing, optimizers\n",
        "from transformers import DistilBertTokenizerFast, TFDistilBertForTokenClassification\n",
        "from matplotlib import pyplot as plt\n",
        "from collections import Counter\n",
        "import seaborn as sns\n",
        "sns.set_style(\"whitegrid\")"
      ]
    },
    {
      "cell_type": "markdown",
      "metadata": {
        "id": "ItRXinRcSmNc"
      },
      "source": [
        "<a name='1'></a>\n",
        "## 1 - Named-Entity Recogniton to Process Resumes\n",
        "\n",
        "When faced with a large amount of unstructured text data, named-entity recognition (NER) can help you detect and classify important information in your dataset. For instance, in the running example \"Jane vists Africa in September\", NER would help you detect \"Jane\", \"Africa\", and \"September\" as named-entities and classify them as person, location, and time.\n",
        "\n",
        "* You will use a variation of the Transformer model you built in the last assignment to process a large dataset of resumes.\n",
        "* You will find and classify relavent information such as the companies the applicant worked at, skills, type of degree, etc."
      ]
    },
    {
      "cell_type": "markdown",
      "metadata": {
        "id": "4_onM1XJSmNc"
      },
      "source": [
        "<a name='1-1'></a>\n",
        "### 1.1 - Dataset Cleaning\n",
        "\n",
        "In this assignment you will optimize a Transformer model on a dataset of resumes. Take a look at how the data you will be working with are structured."
      ]
    },
    {
      "cell_type": "code",
      "execution_count": 2,
      "metadata": {
        "id": "ofby45blSmNc"
      },
      "outputs": [],
      "source": [
        "df_data = pd.read_json(\"./ner.json\", lines=True)\n",
        "df_data = df_data.drop(['extras'], axis=1)\n",
        "df_data['content'] = df_data['content'].str.replace(\"\\n\", \" \")"
      ]
    },
    {
      "cell_type": "code",
      "execution_count": 3,
      "metadata": {
        "colab": {
          "base_uri": "https://localhost:8080/",
          "height": 206
        },
        "id": "5edvhJKuSmNd",
        "outputId": "724f31ef-a1e3-416e-c935-0004baa70a41"
      },
      "outputs": [
        {
          "data": {
            "application/vnd.google.colaboratory.intrinsic+json": {
              "summary": "{\n  \"name\": \"df_data\",\n  \"rows\": 220,\n  \"fields\": [\n    {\n      \"column\": \"content\",\n      \"properties\": {\n        \"dtype\": \"string\",\n        \"num_unique_values\": 219,\n        \"samples\": [\n          \"Hemil Bhavsar Jr. ASP.NET Developer in True Vision Technology  Ahmedabad, Gujarat - Email me on Indeed: indeed.com/r/Hemil-Bhavsar/ce3a928d837ce9e1  To seek a job in the IT industry where I can utilize my skills and technical knowledge for the organization's and individual growth  Area of interest: \\u2022 Software Testing. \\u2022 Testing application manually. \\u2022 Great interest to learn new Technologies and Languages. \\u2022 Enterprise Application Development \\u2022 Web Application Development  WORK EXPERIENCE  Jr. ASP.NET Developer in True Vision Technology  -  September 2015 to May 2016  Software Testing Training at Unicode Technology From March 2018 to May 2018  Jr. ASP.NET Developer (Intern) in Softech Infosys  -  March 2015 to August 2015  EDUCATION  MSC  KSV University -  Gandhinagar, Gujarat  April 2015  B.C.A  Gujarat University  April 2013  SKILLS  ASP (1 year), ASP.NET (1 year), MS ASP (1 year), SOFTWARE TESTING (Less than 1 year), TESTING (Less than 1 year)  https://www.indeed.com/r/Hemil-Bhavsar/ce3a928d837ce9e1?isid=rex-download&ikw=download-top&co=IN   ADDITIONAL INFORMATION  Technical skillset: \\u2022 Manual Testing Techniques \\u2022 Web Application testing \\u2022 STLC (Software Testing Life Cycle) process \\u2022 Verification and Validation process \\u2022 Programming Language: Software Testing, ASP.Net with C#  \\u2022 Frameworks: Microsoft Visual Studio 2010, Frameworks 3.5, Frameworks (C#) 4.0, 4.5 \\u2022 Database tools: MySQL, SQL Server 2008, SQL Server 2010, MS-Access 2008 \\u2022 Report generation Tool: Crystal Report\",\n          \"Syam Devendla Bengaluru, Karnataka - Email me on Indeed: indeed.com/r/Syam-Devendla/ c9ba7bc582b14a7b  Senior software engineer with more than 9 years of experience in C, C++, Data Structures programming and BI analytics. Experience includes implementation and testing of enterprise and mobile application and middleware component software.  WORK EXPERIENCE  SMTS  Oracle India -  Bengaluru, Karnataka -  January 2014 to Present  with OBIEE team. \\u2022 Worked in Samsung R&D Operations, Bangalore since Oct- 2008 to Jan 2014, with Multimedia team.  EDUCATION  Post Graduate Diploma in Embedded Systems  CDAC -  Kochi, Kerala  2006  Bachelor of Technology in Electronics and Communications  Nagarjuna University  2005  SKILLS  .NET (Less than 1 year), ALGORITHMS (Less than 1 year), ALSA (Less than 1 year), ANDROID (Less than 1 year), APACHE HADOOP HDFS (Less than 1 year)  ADDITIONAL INFORMATION  Core Competencies  \\u2022 Extensively worked in C, C++ \\u2022 Good understanding of Data Structures and Algorithms \\u2022 Good understanding and knowledge of BI Analytics of OBIEE. \\u2022 Codes at HackerRank.com and am a 4 Star Rank coder in algorithms, coded using C++ STL \\u2022 Hands on experience of GDB Debugger for Core dump analysis and Server  https://www.indeed.com/r/Syam-Devendla/c9ba7bc582b14a7b?isid=rex-download&ikw=download-top&co=IN https://www.indeed.com/r/Syam-Devendla/c9ba7bc582b14a7b?isid=rex-download&ikw=download-top&co=IN   side debugging. \\u2022 Hands on experience of Visual Studio debugger for debugging on Windows platform. \\u2022 Working experience of Multithreaded applications for more than eight years \\u2022 Good understanding of OOPS Design principles and STL. \\u2022 Experienced in using various debuggers that include GDB debugger, Eclipse, VC++ IDE, Trace 32, WinDbg, Visual Studio. \\u2022 Good knowledge of Big data technologies(Hadoop, Yarn Architecture, map- reduce, Hive, Sqoop, Hbase, Zookeeper) \\u2022 Good experience in Hadoop development and Admin activities. \\u2022 Able to understand and review Java and Scala code \\u2022 Good Exposure to Software practices, SDLC. \\u2022 Good understanding and porting knowledge of framework components. \\u2022 Good understanding of multimedia concepts, Audio video synchronization, AudioOut, AudioIn and video zoom. \\u2022 Knowledge of WEBRTC features. \\u2022 Good knowledge of video Engine. \\u2022 Basic knowledge of MFC, socket programming. \\u2022 Good knowledge in programming and operating system concepts. \\u2022 Experience in working in a project from product development phase to commercialization phase. \\u2022 Successfully commercialized more than 25 million mobiles spanning across twenty models. \\u2022 Good global work exposure having worked in different work environments. \\u2022 Basic understanding of Linux Operating system. \\u2022 Experienced in design and implementation of Multimedia Applications for Mobile handsets. \\u2022 Good experience working on Smart Phone platforms(Framework, Middleware and Application development) having worked on various mobile platforms SHP, Samsung Bada, Linux, WindowsMobile5.0, SLP, Android and Tizen. Syam Prasad Devendla \\u2022 Good knowledge and understanding of different frameworks for multimedia. \\u2022 Good knowledge of multi-threaded programming and IPC mechanisms. \\u2022 Excellent interpersonal and communication skills and ability to work in a team. \\u2022 Skilled at learning new concepts quickly, working well under pressure, and communicating ideas clearly and effectively. \\u2022 Tools Used: Beyond Compare, Samsung memory leak tool, and Samsung code coverageTool, VS 2005 Remote Tools, KlocWork, WinShark and Ethereal. \\u2022 Experienced in working with configuration tools like VSS, Perforce, and Clear Case.  \\u2022 Operating Systems: Windows, Ubuntu Linux \\u2022 Mobile Platforms: SHP, Bada, Linux, WindowsMobile5.0, SLP and Tizen \\u2022 Technology: Multimedia, Content, Mobile Applications \\u2022 Languages: C, C++(Data Structures, Design Patterns, STL) \\u2022 Tools: Eclipse, VS2005, VS2010 KlocWork, Clear case, Perforce  Projects    \\u2022 OBIEE Environment: Oracle BI Languages: C++ \\u2022 Implementing enhancements, improving the diagnosabilty and address the customer issues by fixing the code bugs. \\u2022 Developed a security feature in downloads module to protect the system from DOS attack. \\u2022 Implemented a performance enhancer logic in Ibots to execute the agents faster. \\u2022 Responsible for fix/enhance Ibot(Delivers/Agent/Schedulers) issues in the product. \\u2022 Responsible for fixing the core dump issues reported by customers in the nqscheduler component in linux 32/64 and windows 32/64 platforms. \\u2022 Oracle-Thirdeye Environment: HDFS, Yarn, Hadoop, map-reduce, thirdeye-agent \\u2022 GUI is able to provide all information in a usable environment. \\u2022 Most of the use will be as an embeddable UI in applications like TLP, DTE, and Bug DB etc.  Syam Prasad Devendla \\u2022 Provide term, line number and time indexes for word and phrase search, ability to drill down to a given line number and data around it, and also have ability to see data around a given time.  \\u2022 Thirdeye-nodes-refresh Environment: HDFS, Yarn, Hadoop, map-reduce \\u2022 All processes for thirdeye including Hadoop components running on the same node. This overburdens the master node and leads to frequent failures due to disk space and memory issues, so worked on POC to replicate entire thirdeye setup with required configuration on new machines.  \\u2022 BI-Manifest-Comparison Tool Environment: Oracle BI Languages: Java \\u2022 Implemented tool to create an excel with manifests data across platforms and painted the mismatched versions \\u2022 WebRTC Environment: Browser Languages: C++ \\u2022 Media Recorder implementation. \\u2022 Multi Party communication development. \\u2022 Stage Fright (recorder and playback) \\u2022 Video engine \\u2022 Peer connection \\u2022 PlatformsY2012-Framework (content) Environment: Tizen Languages: C++ \\u2022 Developing Tizen framework (content) on SLP. \\u2022 File Search \\u2022 Directory Search \\u2022 Playlist and Playlist Manager \\u2022 Supporting Tizen content framework. \\u2022 PlatformsY2011 -Framework (Multimedia- player) Environment: Bada, Eclipse, SLP (Samsung Linux Platform) Languages: C++    \\u2022 Implemented player framework for Bada OS \\u2022 Audio Player and video Player modules. \\u2022 POC of AV synchronization for video zoom. \\u2022 Supporting Bada2.0 player framework and commercialization. \\u2022 Movie Studio (Video Editor) Environment: Bada, Eclipse Languages: C++ \\u2022 Developed application based on UI guidelines given, modules like preview, split and trim forms using VePlayer library. \\u2022 Implemented VPL file creation. \\u2022 Media Browser Environment: Bada, Eclipse Languages: C, C++ \\u2022 This application is developed to check the stability of Bada's player and Audio out modules. \\u2022 Audio Player and video Player modules. \\u2022 Implemented progress bar of player in both Player Form and PLS Player Form. \\u2022 Bada-NS(R&D) Environment: Linux, SLP (Samsung Linux Platform) Languages: C, C++ \\u2022 Worked on launching emulator \\u2022 knowledge of SLP Multimedia Framework \\u2022 Ported Player (Audio and Video) module \\u2022 Ported Audio Out and Audio In modules using ALSA library \\u2022 ETMs Firmware Client: Wabtec Railway Electronics, German Town  Syam Prasad Devendla Environment: Windows XP, IAR Workbench Hardware: IOC board (Provided by WRE) Languages: C \\u2022 Serial - Ethernet Bridge \\u2022 Serial communication commands handling. \\u2022 Supt Link Client: Schindler Elevator & Escalator Corporation Environment: Windows Mobile 5.0, embedded VC, Visual Studio 2005 Languages: VC++, MFC \\u2022 A Business application. It makes easy for the superintendents to check the status of the elevators and escalators which are newly installed or being maintained and rate them according to their performance and report the same to the Sap server using mobility solutions. \\u2022 FldLink Client: Schindler Elevator & Escalator Corporation Environment: Windows Mobile 5.0, embedded VC, Visual Studio 2005 Languages: VC++, MFC \\u2022 FldLink is a Mobile Application which provides the technicians with a single, comprehensive view of contact information, meeting schedules, Technical information and repairing support while working in the field.\",\n          \"Siddharth Choudhary Microsoft Office Suite - Expert  Hyderabad, Telangana - Email me on Indeed: indeed.com/r/Siddharth- Choudhary/19d56a964e37fa1a  Goal oriented finance professional with a great aptitude to learn. Dedicated to CONTACT meeting aggressive/challenging business goals. Logically strong with good knowledge in financial management, tax, audit, and computers. choudharysiddharth22@gmail.com  During my training/articleship period, I have learnt how to analyse business [\\u2026] [\\u2026] cycles/operations and conduct risk analysis and further audit procedures www.linkedin.com/in/Sid- based on the risk analysis. Choudhary  WORK EXPERIENCE  Microsoft Office Suite - Expert  Tally ERP - Intermediate SQL, Chartered -  2013 to 2017  ICAI 464/800 Accountancy  EDUCATION  Score  SKILLS  AUDITING (Less than 1 year), CFA (Less than 1 year), DERIVATIVES (Less than 1 year), FINANCIAL ANALYST (Less than 1 year), FINANCIAL STATEMENT ANALYSIS (Less than 1 year)  ADDITIONAL INFORMATION  CORE COMPETENCIES  212, Shri Gayathri Elegant, Karkhana, Sec-bad. Portfolio management strategies Auditing (Statutory) Derivatives and Swaps Financial statement analysis Consolidation Ratio/Trend Analysis  COMPUTER SKILLS 2017- Chartered Level 1 - CFA (US)  https://www.indeed.com/r/Siddharth-Choudhary/19d56a964e37fa1a?isid=rex-download&ikw=download-top&co=IN https://www.indeed.com/r/Siddharth-Choudhary/19d56a964e37fa1a?isid=rex-download&ikw=download-top&co=IN   Present Financial Analyst Cleared\"\n        ],\n        \"semantic_type\": \"\",\n        \"description\": \"\"\n      }\n    },\n    {\n      \"column\": \"annotation\",\n      \"properties\": {\n        \"dtype\": \"object\",\n        \"semantic_type\": \"\",\n        \"description\": \"\"\n      }\n    }\n  ]\n}",
              "type": "dataframe",
              "variable_name": "df_data"
            },
            "text/html": [
              "\n",
              "  <div id=\"df-a1617b89-42d6-4f50-9e03-90f7e1b5baa2\" class=\"colab-df-container\">\n",
              "    <div>\n",
              "<style scoped>\n",
              "    .dataframe tbody tr th:only-of-type {\n",
              "        vertical-align: middle;\n",
              "    }\n",
              "\n",
              "    .dataframe tbody tr th {\n",
              "        vertical-align: top;\n",
              "    }\n",
              "\n",
              "    .dataframe thead th {\n",
              "        text-align: right;\n",
              "    }\n",
              "</style>\n",
              "<table border=\"1\" class=\"dataframe\">\n",
              "  <thead>\n",
              "    <tr style=\"text-align: right;\">\n",
              "      <th></th>\n",
              "      <th>content</th>\n",
              "      <th>annotation</th>\n",
              "    </tr>\n",
              "  </thead>\n",
              "  <tbody>\n",
              "    <tr>\n",
              "      <th>0</th>\n",
              "      <td>Abhishek Jha Application Development Associate...</td>\n",
              "      <td>[{'label': ['Skills'], 'points': [{'start': 12...</td>\n",
              "    </tr>\n",
              "    <tr>\n",
              "      <th>1</th>\n",
              "      <td>Afreen Jamadar Active member of IIIT Committee...</td>\n",
              "      <td>[{'label': ['Email Address'], 'points': [{'sta...</td>\n",
              "    </tr>\n",
              "    <tr>\n",
              "      <th>2</th>\n",
              "      <td>Akhil Yadav Polemaina Hyderabad, Telangana - E...</td>\n",
              "      <td>[{'label': ['Skills'], 'points': [{'start': 37...</td>\n",
              "    </tr>\n",
              "    <tr>\n",
              "      <th>3</th>\n",
              "      <td>Alok Khandai Operational Analyst (SQL DBA) Eng...</td>\n",
              "      <td>[{'label': ['Skills'], 'points': [{'start': 80...</td>\n",
              "    </tr>\n",
              "    <tr>\n",
              "      <th>4</th>\n",
              "      <td>Ananya Chavan lecturer - oracle tutorials  Mum...</td>\n",
              "      <td>[{'label': ['Degree'], 'points': [{'start': 20...</td>\n",
              "    </tr>\n",
              "  </tbody>\n",
              "</table>\n",
              "</div>\n",
              "    <div class=\"colab-df-buttons\">\n",
              "\n",
              "  <div class=\"colab-df-container\">\n",
              "    <button class=\"colab-df-convert\" onclick=\"convertToInteractive('df-a1617b89-42d6-4f50-9e03-90f7e1b5baa2')\"\n",
              "            title=\"Convert this dataframe to an interactive table.\"\n",
              "            style=\"display:none;\">\n",
              "\n",
              "  <svg xmlns=\"http://www.w3.org/2000/svg\" height=\"24px\" viewBox=\"0 -960 960 960\">\n",
              "    <path d=\"M120-120v-720h720v720H120Zm60-500h600v-160H180v160Zm220 220h160v-160H400v160Zm0 220h160v-160H400v160ZM180-400h160v-160H180v160Zm440 0h160v-160H620v160ZM180-180h160v-160H180v160Zm440 0h160v-160H620v160Z\"/>\n",
              "  </svg>\n",
              "    </button>\n",
              "\n",
              "  <style>\n",
              "    .colab-df-container {\n",
              "      display:flex;\n",
              "      gap: 12px;\n",
              "    }\n",
              "\n",
              "    .colab-df-convert {\n",
              "      background-color: #E8F0FE;\n",
              "      border: none;\n",
              "      border-radius: 50%;\n",
              "      cursor: pointer;\n",
              "      display: none;\n",
              "      fill: #1967D2;\n",
              "      height: 32px;\n",
              "      padding: 0 0 0 0;\n",
              "      width: 32px;\n",
              "    }\n",
              "\n",
              "    .colab-df-convert:hover {\n",
              "      background-color: #E2EBFA;\n",
              "      box-shadow: 0px 1px 2px rgba(60, 64, 67, 0.3), 0px 1px 3px 1px rgba(60, 64, 67, 0.15);\n",
              "      fill: #174EA6;\n",
              "    }\n",
              "\n",
              "    .colab-df-buttons div {\n",
              "      margin-bottom: 4px;\n",
              "    }\n",
              "\n",
              "    [theme=dark] .colab-df-convert {\n",
              "      background-color: #3B4455;\n",
              "      fill: #D2E3FC;\n",
              "    }\n",
              "\n",
              "    [theme=dark] .colab-df-convert:hover {\n",
              "      background-color: #434B5C;\n",
              "      box-shadow: 0px 1px 3px 1px rgba(0, 0, 0, 0.15);\n",
              "      filter: drop-shadow(0px 1px 2px rgba(0, 0, 0, 0.3));\n",
              "      fill: #FFFFFF;\n",
              "    }\n",
              "  </style>\n",
              "\n",
              "    <script>\n",
              "      const buttonEl =\n",
              "        document.querySelector('#df-a1617b89-42d6-4f50-9e03-90f7e1b5baa2 button.colab-df-convert');\n",
              "      buttonEl.style.display =\n",
              "        google.colab.kernel.accessAllowed ? 'block' : 'none';\n",
              "\n",
              "      async function convertToInteractive(key) {\n",
              "        const element = document.querySelector('#df-a1617b89-42d6-4f50-9e03-90f7e1b5baa2');\n",
              "        const dataTable =\n",
              "          await google.colab.kernel.invokeFunction('convertToInteractive',\n",
              "                                                    [key], {});\n",
              "        if (!dataTable) return;\n",
              "\n",
              "        const docLinkHtml = 'Like what you see? Visit the ' +\n",
              "          '<a target=\"_blank\" href=https://colab.research.google.com/notebooks/data_table.ipynb>data table notebook</a>'\n",
              "          + ' to learn more about interactive tables.';\n",
              "        element.innerHTML = '';\n",
              "        dataTable['output_type'] = 'display_data';\n",
              "        await google.colab.output.renderOutput(dataTable, element);\n",
              "        const docLink = document.createElement('div');\n",
              "        docLink.innerHTML = docLinkHtml;\n",
              "        element.appendChild(docLink);\n",
              "      }\n",
              "    </script>\n",
              "  </div>\n",
              "\n",
              "\n",
              "<div id=\"df-4426525e-38ef-4999-8e0d-bd62baf908e2\">\n",
              "  <button class=\"colab-df-quickchart\" onclick=\"quickchart('df-4426525e-38ef-4999-8e0d-bd62baf908e2')\"\n",
              "            title=\"Suggest charts\"\n",
              "            style=\"display:none;\">\n",
              "\n",
              "<svg xmlns=\"http://www.w3.org/2000/svg\" height=\"24px\"viewBox=\"0 0 24 24\"\n",
              "     width=\"24px\">\n",
              "    <g>\n",
              "        <path d=\"M19 3H5c-1.1 0-2 .9-2 2v14c0 1.1.9 2 2 2h14c1.1 0 2-.9 2-2V5c0-1.1-.9-2-2-2zM9 17H7v-7h2v7zm4 0h-2V7h2v10zm4 0h-2v-4h2v4z\"/>\n",
              "    </g>\n",
              "</svg>\n",
              "  </button>\n",
              "\n",
              "<style>\n",
              "  .colab-df-quickchart {\n",
              "      --bg-color: #E8F0FE;\n",
              "      --fill-color: #1967D2;\n",
              "      --hover-bg-color: #E2EBFA;\n",
              "      --hover-fill-color: #174EA6;\n",
              "      --disabled-fill-color: #AAA;\n",
              "      --disabled-bg-color: #DDD;\n",
              "  }\n",
              "\n",
              "  [theme=dark] .colab-df-quickchart {\n",
              "      --bg-color: #3B4455;\n",
              "      --fill-color: #D2E3FC;\n",
              "      --hover-bg-color: #434B5C;\n",
              "      --hover-fill-color: #FFFFFF;\n",
              "      --disabled-bg-color: #3B4455;\n",
              "      --disabled-fill-color: #666;\n",
              "  }\n",
              "\n",
              "  .colab-df-quickchart {\n",
              "    background-color: var(--bg-color);\n",
              "    border: none;\n",
              "    border-radius: 50%;\n",
              "    cursor: pointer;\n",
              "    display: none;\n",
              "    fill: var(--fill-color);\n",
              "    height: 32px;\n",
              "    padding: 0;\n",
              "    width: 32px;\n",
              "  }\n",
              "\n",
              "  .colab-df-quickchart:hover {\n",
              "    background-color: var(--hover-bg-color);\n",
              "    box-shadow: 0 1px 2px rgba(60, 64, 67, 0.3), 0 1px 3px 1px rgba(60, 64, 67, 0.15);\n",
              "    fill: var(--button-hover-fill-color);\n",
              "  }\n",
              "\n",
              "  .colab-df-quickchart-complete:disabled,\n",
              "  .colab-df-quickchart-complete:disabled:hover {\n",
              "    background-color: var(--disabled-bg-color);\n",
              "    fill: var(--disabled-fill-color);\n",
              "    box-shadow: none;\n",
              "  }\n",
              "\n",
              "  .colab-df-spinner {\n",
              "    border: 2px solid var(--fill-color);\n",
              "    border-color: transparent;\n",
              "    border-bottom-color: var(--fill-color);\n",
              "    animation:\n",
              "      spin 1s steps(1) infinite;\n",
              "  }\n",
              "\n",
              "  @keyframes spin {\n",
              "    0% {\n",
              "      border-color: transparent;\n",
              "      border-bottom-color: var(--fill-color);\n",
              "      border-left-color: var(--fill-color);\n",
              "    }\n",
              "    20% {\n",
              "      border-color: transparent;\n",
              "      border-left-color: var(--fill-color);\n",
              "      border-top-color: var(--fill-color);\n",
              "    }\n",
              "    30% {\n",
              "      border-color: transparent;\n",
              "      border-left-color: var(--fill-color);\n",
              "      border-top-color: var(--fill-color);\n",
              "      border-right-color: var(--fill-color);\n",
              "    }\n",
              "    40% {\n",
              "      border-color: transparent;\n",
              "      border-right-color: var(--fill-color);\n",
              "      border-top-color: var(--fill-color);\n",
              "    }\n",
              "    60% {\n",
              "      border-color: transparent;\n",
              "      border-right-color: var(--fill-color);\n",
              "    }\n",
              "    80% {\n",
              "      border-color: transparent;\n",
              "      border-right-color: var(--fill-color);\n",
              "      border-bottom-color: var(--fill-color);\n",
              "    }\n",
              "    90% {\n",
              "      border-color: transparent;\n",
              "      border-bottom-color: var(--fill-color);\n",
              "    }\n",
              "  }\n",
              "</style>\n",
              "\n",
              "  <script>\n",
              "    async function quickchart(key) {\n",
              "      const quickchartButtonEl =\n",
              "        document.querySelector('#' + key + ' button');\n",
              "      quickchartButtonEl.disabled = true;  // To prevent multiple clicks.\n",
              "      quickchartButtonEl.classList.add('colab-df-spinner');\n",
              "      try {\n",
              "        const charts = await google.colab.kernel.invokeFunction(\n",
              "            'suggestCharts', [key], {});\n",
              "      } catch (error) {\n",
              "        console.error('Error during call to suggestCharts:', error);\n",
              "      }\n",
              "      quickchartButtonEl.classList.remove('colab-df-spinner');\n",
              "      quickchartButtonEl.classList.add('colab-df-quickchart-complete');\n",
              "    }\n",
              "    (() => {\n",
              "      let quickchartButtonEl =\n",
              "        document.querySelector('#df-4426525e-38ef-4999-8e0d-bd62baf908e2 button');\n",
              "      quickchartButtonEl.style.display =\n",
              "        google.colab.kernel.accessAllowed ? 'block' : 'none';\n",
              "    })();\n",
              "  </script>\n",
              "</div>\n",
              "\n",
              "    </div>\n",
              "  </div>\n"
            ],
            "text/plain": [
              "                                             content  \\\n",
              "0  Abhishek Jha Application Development Associate...   \n",
              "1  Afreen Jamadar Active member of IIIT Committee...   \n",
              "2  Akhil Yadav Polemaina Hyderabad, Telangana - E...   \n",
              "3  Alok Khandai Operational Analyst (SQL DBA) Eng...   \n",
              "4  Ananya Chavan lecturer - oracle tutorials  Mum...   \n",
              "\n",
              "                                          annotation  \n",
              "0  [{'label': ['Skills'], 'points': [{'start': 12...  \n",
              "1  [{'label': ['Email Address'], 'points': [{'sta...  \n",
              "2  [{'label': ['Skills'], 'points': [{'start': 37...  \n",
              "3  [{'label': ['Skills'], 'points': [{'start': 80...  \n",
              "4  [{'label': ['Degree'], 'points': [{'start': 20...  "
            ]
          },
          "execution_count": 3,
          "metadata": {},
          "output_type": "execute_result"
        }
      ],
      "source": [
        "df_data.head()"
      ]
    },
    {
      "cell_type": "code",
      "execution_count": 4,
      "metadata": {
        "colab": {
          "base_uri": "https://localhost:8080/"
        },
        "id": "MA44MC2FSmNe",
        "outputId": "be9b2284-424c-48a0-a24d-6f01f3e5dae7"
      },
      "outputs": [
        {
          "data": {
            "text/plain": [
              "[{'label': ['Skills'],\n",
              "  'points': [{'start': 1295,\n",
              "    'end': 1621,\n",
              "    'text': '\\n• Programming language: C, C++, Java\\n• Oracle PeopleSoft\\n• Internet Of Things\\n• Machine Learning\\n• Database Management System\\n• Computer Networks\\n• Operating System worked on: Linux, Windows, Mac\\n\\nNon - Technical Skills\\n\\n• Honest and Hard-Working\\n• Tolerant and Flexible to Different Situations\\n• Polite and Calm\\n• Team-Player'}]},\n",
              " {'label': ['Skills'],\n",
              "  'points': [{'start': 993,\n",
              "    'end': 1153,\n",
              "    'text': 'C (Less than 1 year), Database (Less than 1 year), Database Management (Less than 1 year),\\nDatabase Management System (Less than 1 year), Java (Less than 1 year)'}]},\n",
              " {'label': ['College Name'],\n",
              "  'points': [{'start': 939, 'end': 956, 'text': 'Kendriya Vidyalaya'}]},\n",
              " {'label': ['College Name'],\n",
              "  'points': [{'start': 883, 'end': 904, 'text': 'Woodbine modern school'}]},\n",
              " {'label': ['Graduation Year'],\n",
              "  'points': [{'start': 856, 'end': 860, 'text': '2017\\n'}]},\n",
              " {'label': ['College Name'],\n",
              "  'points': [{'start': 771,\n",
              "    'end': 813,\n",
              "    'text': 'B.v.b college of engineering and technology'}]},\n",
              " {'label': ['Designation'],\n",
              "  'points': [{'start': 727,\n",
              "    'end': 769,\n",
              "    'text': 'B.E in Information science and engineering\\n'}]},\n",
              " {'label': ['Companies worked at'],\n",
              "  'points': [{'start': 407, 'end': 415, 'text': 'Accenture'}]},\n",
              " {'label': ['Designation'],\n",
              "  'points': [{'start': 372,\n",
              "    'end': 404,\n",
              "    'text': 'Application Development Associate'}]},\n",
              " {'label': ['Email Address'],\n",
              "  'points': [{'start': 95,\n",
              "    'end': 145,\n",
              "    'text': 'Indeed: indeed.com/r/Abhishek-Jha/10e7a8cb732bc43a\\n'}]},\n",
              " {'label': ['Location'],\n",
              "  'points': [{'start': 60, 'end': 68, 'text': 'Bengaluru'}]},\n",
              " {'label': ['Companies worked at'],\n",
              "  'points': [{'start': 49, 'end': 57, 'text': 'Accenture'}]},\n",
              " {'label': ['Designation'],\n",
              "  'points': [{'start': 13,\n",
              "    'end': 45,\n",
              "    'text': 'Application Development Associate'}]},\n",
              " {'label': ['Name'],\n",
              "  'points': [{'start': 0, 'end': 11, 'text': 'Abhishek Jha'}]}]"
            ]
          },
          "execution_count": 4,
          "metadata": {},
          "output_type": "execute_result"
        }
      ],
      "source": [
        "df_data.iloc[0]['annotation']"
      ]
    },
    {
      "cell_type": "code",
      "execution_count": 5,
      "metadata": {
        "id": "Ni92c5GCSmNe"
      },
      "outputs": [],
      "source": [
        "def mergeIntervals(intervals):\n",
        "    sorted_by_lower_bound = sorted(intervals, key=lambda tup: tup[0])\n",
        "    merged = []\n",
        "\n",
        "    for higher in sorted_by_lower_bound:\n",
        "        if not merged:\n",
        "            merged.append(higher)\n",
        "        else:\n",
        "            lower = merged[-1]\n",
        "\n",
        "            if higher[0] <= lower[1]:\n",
        "                if lower[2] is higher[2]:\n",
        "                    upper_bound = max(lower[1], higher[1])\n",
        "                    merged[-1] = (lower[0], upper_bound, lower[2])\n",
        "                else:\n",
        "                    if lower[1] > higher[1]:\n",
        "                        merged[-1] = lower\n",
        "                    else:\n",
        "                        merged[-1] = (lower[0], higher[1], higher[2])\n",
        "            else:\n",
        "                merged.append(higher)\n",
        "\n",
        "    return merged"
      ]
    },
    {
      "cell_type": "code",
      "execution_count": 6,
      "metadata": {
        "id": "oNYkd_lcSmNe"
      },
      "outputs": [],
      "source": [
        "def get_entities(df):\n",
        "    entities = []\n",
        "\n",
        "    for i in range(len(df)):\n",
        "        entity = []\n",
        "\n",
        "        for annot in df['annotation'][i]:\n",
        "            try:\n",
        "                ent = annot['label'][0]\n",
        "                start = annot['points'][0]['start']\n",
        "                end = annot['points'][0]['end'] + 1\n",
        "                entity.append((start, end, ent))\n",
        "            except:\n",
        "                pass\n",
        "\n",
        "        entity = mergeIntervals(entity)\n",
        "        entities.append(entity)\n",
        "\n",
        "    return entities"
      ]
    },
    {
      "cell_type": "code",
      "execution_count": 7,
      "metadata": {
        "colab": {
          "base_uri": "https://localhost:8080/",
          "height": 206
        },
        "id": "HTrSFCg9SmNf",
        "outputId": "023a2fe2-98c3-42a5-95a3-feacf89fd502"
      },
      "outputs": [
        {
          "data": {
            "application/vnd.google.colaboratory.intrinsic+json": {
              "summary": "{\n  \"name\": \"df_data\",\n  \"rows\": 220,\n  \"fields\": [\n    {\n      \"column\": \"content\",\n      \"properties\": {\n        \"dtype\": \"string\",\n        \"num_unique_values\": 219,\n        \"samples\": [\n          \"Hemil Bhavsar Jr. ASP.NET Developer in True Vision Technology  Ahmedabad, Gujarat - Email me on Indeed: indeed.com/r/Hemil-Bhavsar/ce3a928d837ce9e1  To seek a job in the IT industry where I can utilize my skills and technical knowledge for the organization's and individual growth  Area of interest: \\u2022 Software Testing. \\u2022 Testing application manually. \\u2022 Great interest to learn new Technologies and Languages. \\u2022 Enterprise Application Development \\u2022 Web Application Development  WORK EXPERIENCE  Jr. ASP.NET Developer in True Vision Technology  -  September 2015 to May 2016  Software Testing Training at Unicode Technology From March 2018 to May 2018  Jr. ASP.NET Developer (Intern) in Softech Infosys  -  March 2015 to August 2015  EDUCATION  MSC  KSV University -  Gandhinagar, Gujarat  April 2015  B.C.A  Gujarat University  April 2013  SKILLS  ASP (1 year), ASP.NET (1 year), MS ASP (1 year), SOFTWARE TESTING (Less than 1 year), TESTING (Less than 1 year)  https://www.indeed.com/r/Hemil-Bhavsar/ce3a928d837ce9e1?isid=rex-download&ikw=download-top&co=IN   ADDITIONAL INFORMATION  Technical skillset: \\u2022 Manual Testing Techniques \\u2022 Web Application testing \\u2022 STLC (Software Testing Life Cycle) process \\u2022 Verification and Validation process \\u2022 Programming Language: Software Testing, ASP.Net with C#  \\u2022 Frameworks: Microsoft Visual Studio 2010, Frameworks 3.5, Frameworks (C#) 4.0, 4.5 \\u2022 Database tools: MySQL, SQL Server 2008, SQL Server 2010, MS-Access 2008 \\u2022 Report generation Tool: Crystal Report\",\n          \"Syam Devendla Bengaluru, Karnataka - Email me on Indeed: indeed.com/r/Syam-Devendla/ c9ba7bc582b14a7b  Senior software engineer with more than 9 years of experience in C, C++, Data Structures programming and BI analytics. Experience includes implementation and testing of enterprise and mobile application and middleware component software.  WORK EXPERIENCE  SMTS  Oracle India -  Bengaluru, Karnataka -  January 2014 to Present  with OBIEE team. \\u2022 Worked in Samsung R&D Operations, Bangalore since Oct- 2008 to Jan 2014, with Multimedia team.  EDUCATION  Post Graduate Diploma in Embedded Systems  CDAC -  Kochi, Kerala  2006  Bachelor of Technology in Electronics and Communications  Nagarjuna University  2005  SKILLS  .NET (Less than 1 year), ALGORITHMS (Less than 1 year), ALSA (Less than 1 year), ANDROID (Less than 1 year), APACHE HADOOP HDFS (Less than 1 year)  ADDITIONAL INFORMATION  Core Competencies  \\u2022 Extensively worked in C, C++ \\u2022 Good understanding of Data Structures and Algorithms \\u2022 Good understanding and knowledge of BI Analytics of OBIEE. \\u2022 Codes at HackerRank.com and am a 4 Star Rank coder in algorithms, coded using C++ STL \\u2022 Hands on experience of GDB Debugger for Core dump analysis and Server  https://www.indeed.com/r/Syam-Devendla/c9ba7bc582b14a7b?isid=rex-download&ikw=download-top&co=IN https://www.indeed.com/r/Syam-Devendla/c9ba7bc582b14a7b?isid=rex-download&ikw=download-top&co=IN   side debugging. \\u2022 Hands on experience of Visual Studio debugger for debugging on Windows platform. \\u2022 Working experience of Multithreaded applications for more than eight years \\u2022 Good understanding of OOPS Design principles and STL. \\u2022 Experienced in using various debuggers that include GDB debugger, Eclipse, VC++ IDE, Trace 32, WinDbg, Visual Studio. \\u2022 Good knowledge of Big data technologies(Hadoop, Yarn Architecture, map- reduce, Hive, Sqoop, Hbase, Zookeeper) \\u2022 Good experience in Hadoop development and Admin activities. \\u2022 Able to understand and review Java and Scala code \\u2022 Good Exposure to Software practices, SDLC. \\u2022 Good understanding and porting knowledge of framework components. \\u2022 Good understanding of multimedia concepts, Audio video synchronization, AudioOut, AudioIn and video zoom. \\u2022 Knowledge of WEBRTC features. \\u2022 Good knowledge of video Engine. \\u2022 Basic knowledge of MFC, socket programming. \\u2022 Good knowledge in programming and operating system concepts. \\u2022 Experience in working in a project from product development phase to commercialization phase. \\u2022 Successfully commercialized more than 25 million mobiles spanning across twenty models. \\u2022 Good global work exposure having worked in different work environments. \\u2022 Basic understanding of Linux Operating system. \\u2022 Experienced in design and implementation of Multimedia Applications for Mobile handsets. \\u2022 Good experience working on Smart Phone platforms(Framework, Middleware and Application development) having worked on various mobile platforms SHP, Samsung Bada, Linux, WindowsMobile5.0, SLP, Android and Tizen. Syam Prasad Devendla \\u2022 Good knowledge and understanding of different frameworks for multimedia. \\u2022 Good knowledge of multi-threaded programming and IPC mechanisms. \\u2022 Excellent interpersonal and communication skills and ability to work in a team. \\u2022 Skilled at learning new concepts quickly, working well under pressure, and communicating ideas clearly and effectively. \\u2022 Tools Used: Beyond Compare, Samsung memory leak tool, and Samsung code coverageTool, VS 2005 Remote Tools, KlocWork, WinShark and Ethereal. \\u2022 Experienced in working with configuration tools like VSS, Perforce, and Clear Case.  \\u2022 Operating Systems: Windows, Ubuntu Linux \\u2022 Mobile Platforms: SHP, Bada, Linux, WindowsMobile5.0, SLP and Tizen \\u2022 Technology: Multimedia, Content, Mobile Applications \\u2022 Languages: C, C++(Data Structures, Design Patterns, STL) \\u2022 Tools: Eclipse, VS2005, VS2010 KlocWork, Clear case, Perforce  Projects    \\u2022 OBIEE Environment: Oracle BI Languages: C++ \\u2022 Implementing enhancements, improving the diagnosabilty and address the customer issues by fixing the code bugs. \\u2022 Developed a security feature in downloads module to protect the system from DOS attack. \\u2022 Implemented a performance enhancer logic in Ibots to execute the agents faster. \\u2022 Responsible for fix/enhance Ibot(Delivers/Agent/Schedulers) issues in the product. \\u2022 Responsible for fixing the core dump issues reported by customers in the nqscheduler component in linux 32/64 and windows 32/64 platforms. \\u2022 Oracle-Thirdeye Environment: HDFS, Yarn, Hadoop, map-reduce, thirdeye-agent \\u2022 GUI is able to provide all information in a usable environment. \\u2022 Most of the use will be as an embeddable UI in applications like TLP, DTE, and Bug DB etc.  Syam Prasad Devendla \\u2022 Provide term, line number and time indexes for word and phrase search, ability to drill down to a given line number and data around it, and also have ability to see data around a given time.  \\u2022 Thirdeye-nodes-refresh Environment: HDFS, Yarn, Hadoop, map-reduce \\u2022 All processes for thirdeye including Hadoop components running on the same node. This overburdens the master node and leads to frequent failures due to disk space and memory issues, so worked on POC to replicate entire thirdeye setup with required configuration on new machines.  \\u2022 BI-Manifest-Comparison Tool Environment: Oracle BI Languages: Java \\u2022 Implemented tool to create an excel with manifests data across platforms and painted the mismatched versions \\u2022 WebRTC Environment: Browser Languages: C++ \\u2022 Media Recorder implementation. \\u2022 Multi Party communication development. \\u2022 Stage Fright (recorder and playback) \\u2022 Video engine \\u2022 Peer connection \\u2022 PlatformsY2012-Framework (content) Environment: Tizen Languages: C++ \\u2022 Developing Tizen framework (content) on SLP. \\u2022 File Search \\u2022 Directory Search \\u2022 Playlist and Playlist Manager \\u2022 Supporting Tizen content framework. \\u2022 PlatformsY2011 -Framework (Multimedia- player) Environment: Bada, Eclipse, SLP (Samsung Linux Platform) Languages: C++    \\u2022 Implemented player framework for Bada OS \\u2022 Audio Player and video Player modules. \\u2022 POC of AV synchronization for video zoom. \\u2022 Supporting Bada2.0 player framework and commercialization. \\u2022 Movie Studio (Video Editor) Environment: Bada, Eclipse Languages: C++ \\u2022 Developed application based on UI guidelines given, modules like preview, split and trim forms using VePlayer library. \\u2022 Implemented VPL file creation. \\u2022 Media Browser Environment: Bada, Eclipse Languages: C, C++ \\u2022 This application is developed to check the stability of Bada's player and Audio out modules. \\u2022 Audio Player and video Player modules. \\u2022 Implemented progress bar of player in both Player Form and PLS Player Form. \\u2022 Bada-NS(R&D) Environment: Linux, SLP (Samsung Linux Platform) Languages: C, C++ \\u2022 Worked on launching emulator \\u2022 knowledge of SLP Multimedia Framework \\u2022 Ported Player (Audio and Video) module \\u2022 Ported Audio Out and Audio In modules using ALSA library \\u2022 ETMs Firmware Client: Wabtec Railway Electronics, German Town  Syam Prasad Devendla Environment: Windows XP, IAR Workbench Hardware: IOC board (Provided by WRE) Languages: C \\u2022 Serial - Ethernet Bridge \\u2022 Serial communication commands handling. \\u2022 Supt Link Client: Schindler Elevator & Escalator Corporation Environment: Windows Mobile 5.0, embedded VC, Visual Studio 2005 Languages: VC++, MFC \\u2022 A Business application. It makes easy for the superintendents to check the status of the elevators and escalators which are newly installed or being maintained and rate them according to their performance and report the same to the Sap server using mobility solutions. \\u2022 FldLink Client: Schindler Elevator & Escalator Corporation Environment: Windows Mobile 5.0, embedded VC, Visual Studio 2005 Languages: VC++, MFC \\u2022 FldLink is a Mobile Application which provides the technicians with a single, comprehensive view of contact information, meeting schedules, Technical information and repairing support while working in the field.\",\n          \"Siddharth Choudhary Microsoft Office Suite - Expert  Hyderabad, Telangana - Email me on Indeed: indeed.com/r/Siddharth- Choudhary/19d56a964e37fa1a  Goal oriented finance professional with a great aptitude to learn. Dedicated to CONTACT meeting aggressive/challenging business goals. Logically strong with good knowledge in financial management, tax, audit, and computers. choudharysiddharth22@gmail.com  During my training/articleship period, I have learnt how to analyse business [\\u2026] [\\u2026] cycles/operations and conduct risk analysis and further audit procedures www.linkedin.com/in/Sid- based on the risk analysis. Choudhary  WORK EXPERIENCE  Microsoft Office Suite - Expert  Tally ERP - Intermediate SQL, Chartered -  2013 to 2017  ICAI 464/800 Accountancy  EDUCATION  Score  SKILLS  AUDITING (Less than 1 year), CFA (Less than 1 year), DERIVATIVES (Less than 1 year), FINANCIAL ANALYST (Less than 1 year), FINANCIAL STATEMENT ANALYSIS (Less than 1 year)  ADDITIONAL INFORMATION  CORE COMPETENCIES  212, Shri Gayathri Elegant, Karkhana, Sec-bad. Portfolio management strategies Auditing (Statutory) Derivatives and Swaps Financial statement analysis Consolidation Ratio/Trend Analysis  COMPUTER SKILLS 2017- Chartered Level 1 - CFA (US)  https://www.indeed.com/r/Siddharth-Choudhary/19d56a964e37fa1a?isid=rex-download&ikw=download-top&co=IN https://www.indeed.com/r/Siddharth-Choudhary/19d56a964e37fa1a?isid=rex-download&ikw=download-top&co=IN   Present Financial Analyst Cleared\"\n        ],\n        \"semantic_type\": \"\",\n        \"description\": \"\"\n      }\n    },\n    {\n      \"column\": \"annotation\",\n      \"properties\": {\n        \"dtype\": \"object\",\n        \"semantic_type\": \"\",\n        \"description\": \"\"\n      }\n    },\n    {\n      \"column\": \"entities\",\n      \"properties\": {\n        \"dtype\": \"object\",\n        \"semantic_type\": \"\",\n        \"description\": \"\"\n      }\n    }\n  ]\n}",
              "type": "dataframe",
              "variable_name": "df_data"
            },
            "text/html": [
              "\n",
              "  <div id=\"df-b2a6a784-6f24-461b-82b0-7d9b113dc47a\" class=\"colab-df-container\">\n",
              "    <div>\n",
              "<style scoped>\n",
              "    .dataframe tbody tr th:only-of-type {\n",
              "        vertical-align: middle;\n",
              "    }\n",
              "\n",
              "    .dataframe tbody tr th {\n",
              "        vertical-align: top;\n",
              "    }\n",
              "\n",
              "    .dataframe thead th {\n",
              "        text-align: right;\n",
              "    }\n",
              "</style>\n",
              "<table border=\"1\" class=\"dataframe\">\n",
              "  <thead>\n",
              "    <tr style=\"text-align: right;\">\n",
              "      <th></th>\n",
              "      <th>content</th>\n",
              "      <th>annotation</th>\n",
              "      <th>entities</th>\n",
              "    </tr>\n",
              "  </thead>\n",
              "  <tbody>\n",
              "    <tr>\n",
              "      <th>0</th>\n",
              "      <td>Abhishek Jha Application Development Associate...</td>\n",
              "      <td>[{'label': ['Skills'], 'points': [{'start': 12...</td>\n",
              "      <td>[(0, 12, Name), (13, 46, Designation), (49, 58...</td>\n",
              "    </tr>\n",
              "    <tr>\n",
              "      <th>1</th>\n",
              "      <td>Afreen Jamadar Active member of IIIT Committee...</td>\n",
              "      <td>[{'label': ['Email Address'], 'points': [{'sta...</td>\n",
              "      <td>[(0, 14, Name), (62, 68, Location), (104, 148,...</td>\n",
              "    </tr>\n",
              "    <tr>\n",
              "      <th>2</th>\n",
              "      <td>Akhil Yadav Polemaina Hyderabad, Telangana - E...</td>\n",
              "      <td>[{'label': ['Skills'], 'points': [{'start': 37...</td>\n",
              "      <td>[(0, 21, Name), (22, 31, Location), (65, 117, ...</td>\n",
              "    </tr>\n",
              "    <tr>\n",
              "      <th>3</th>\n",
              "      <td>Alok Khandai Operational Analyst (SQL DBA) Eng...</td>\n",
              "      <td>[{'label': ['Skills'], 'points': [{'start': 80...</td>\n",
              "      <td>[(0, 12, Name), (13, 51, Designation), (54, 60...</td>\n",
              "    </tr>\n",
              "    <tr>\n",
              "      <th>4</th>\n",
              "      <td>Ananya Chavan lecturer - oracle tutorials  Mum...</td>\n",
              "      <td>[{'label': ['Degree'], 'points': [{'start': 20...</td>\n",
              "      <td>[(0, 13, Name), (14, 22, Designation), (24, 41...</td>\n",
              "    </tr>\n",
              "  </tbody>\n",
              "</table>\n",
              "</div>\n",
              "    <div class=\"colab-df-buttons\">\n",
              "\n",
              "  <div class=\"colab-df-container\">\n",
              "    <button class=\"colab-df-convert\" onclick=\"convertToInteractive('df-b2a6a784-6f24-461b-82b0-7d9b113dc47a')\"\n",
              "            title=\"Convert this dataframe to an interactive table.\"\n",
              "            style=\"display:none;\">\n",
              "\n",
              "  <svg xmlns=\"http://www.w3.org/2000/svg\" height=\"24px\" viewBox=\"0 -960 960 960\">\n",
              "    <path d=\"M120-120v-720h720v720H120Zm60-500h600v-160H180v160Zm220 220h160v-160H400v160Zm0 220h160v-160H400v160ZM180-400h160v-160H180v160Zm440 0h160v-160H620v160ZM180-180h160v-160H180v160Zm440 0h160v-160H620v160Z\"/>\n",
              "  </svg>\n",
              "    </button>\n",
              "\n",
              "  <style>\n",
              "    .colab-df-container {\n",
              "      display:flex;\n",
              "      gap: 12px;\n",
              "    }\n",
              "\n",
              "    .colab-df-convert {\n",
              "      background-color: #E8F0FE;\n",
              "      border: none;\n",
              "      border-radius: 50%;\n",
              "      cursor: pointer;\n",
              "      display: none;\n",
              "      fill: #1967D2;\n",
              "      height: 32px;\n",
              "      padding: 0 0 0 0;\n",
              "      width: 32px;\n",
              "    }\n",
              "\n",
              "    .colab-df-convert:hover {\n",
              "      background-color: #E2EBFA;\n",
              "      box-shadow: 0px 1px 2px rgba(60, 64, 67, 0.3), 0px 1px 3px 1px rgba(60, 64, 67, 0.15);\n",
              "      fill: #174EA6;\n",
              "    }\n",
              "\n",
              "    .colab-df-buttons div {\n",
              "      margin-bottom: 4px;\n",
              "    }\n",
              "\n",
              "    [theme=dark] .colab-df-convert {\n",
              "      background-color: #3B4455;\n",
              "      fill: #D2E3FC;\n",
              "    }\n",
              "\n",
              "    [theme=dark] .colab-df-convert:hover {\n",
              "      background-color: #434B5C;\n",
              "      box-shadow: 0px 1px 3px 1px rgba(0, 0, 0, 0.15);\n",
              "      filter: drop-shadow(0px 1px 2px rgba(0, 0, 0, 0.3));\n",
              "      fill: #FFFFFF;\n",
              "    }\n",
              "  </style>\n",
              "\n",
              "    <script>\n",
              "      const buttonEl =\n",
              "        document.querySelector('#df-b2a6a784-6f24-461b-82b0-7d9b113dc47a button.colab-df-convert');\n",
              "      buttonEl.style.display =\n",
              "        google.colab.kernel.accessAllowed ? 'block' : 'none';\n",
              "\n",
              "      async function convertToInteractive(key) {\n",
              "        const element = document.querySelector('#df-b2a6a784-6f24-461b-82b0-7d9b113dc47a');\n",
              "        const dataTable =\n",
              "          await google.colab.kernel.invokeFunction('convertToInteractive',\n",
              "                                                    [key], {});\n",
              "        if (!dataTable) return;\n",
              "\n",
              "        const docLinkHtml = 'Like what you see? Visit the ' +\n",
              "          '<a target=\"_blank\" href=https://colab.research.google.com/notebooks/data_table.ipynb>data table notebook</a>'\n",
              "          + ' to learn more about interactive tables.';\n",
              "        element.innerHTML = '';\n",
              "        dataTable['output_type'] = 'display_data';\n",
              "        await google.colab.output.renderOutput(dataTable, element);\n",
              "        const docLink = document.createElement('div');\n",
              "        docLink.innerHTML = docLinkHtml;\n",
              "        element.appendChild(docLink);\n",
              "      }\n",
              "    </script>\n",
              "  </div>\n",
              "\n",
              "\n",
              "<div id=\"df-df8bf797-26d1-4855-a687-c79524f07f2e\">\n",
              "  <button class=\"colab-df-quickchart\" onclick=\"quickchart('df-df8bf797-26d1-4855-a687-c79524f07f2e')\"\n",
              "            title=\"Suggest charts\"\n",
              "            style=\"display:none;\">\n",
              "\n",
              "<svg xmlns=\"http://www.w3.org/2000/svg\" height=\"24px\"viewBox=\"0 0 24 24\"\n",
              "     width=\"24px\">\n",
              "    <g>\n",
              "        <path d=\"M19 3H5c-1.1 0-2 .9-2 2v14c0 1.1.9 2 2 2h14c1.1 0 2-.9 2-2V5c0-1.1-.9-2-2-2zM9 17H7v-7h2v7zm4 0h-2V7h2v10zm4 0h-2v-4h2v4z\"/>\n",
              "    </g>\n",
              "</svg>\n",
              "  </button>\n",
              "\n",
              "<style>\n",
              "  .colab-df-quickchart {\n",
              "      --bg-color: #E8F0FE;\n",
              "      --fill-color: #1967D2;\n",
              "      --hover-bg-color: #E2EBFA;\n",
              "      --hover-fill-color: #174EA6;\n",
              "      --disabled-fill-color: #AAA;\n",
              "      --disabled-bg-color: #DDD;\n",
              "  }\n",
              "\n",
              "  [theme=dark] .colab-df-quickchart {\n",
              "      --bg-color: #3B4455;\n",
              "      --fill-color: #D2E3FC;\n",
              "      --hover-bg-color: #434B5C;\n",
              "      --hover-fill-color: #FFFFFF;\n",
              "      --disabled-bg-color: #3B4455;\n",
              "      --disabled-fill-color: #666;\n",
              "  }\n",
              "\n",
              "  .colab-df-quickchart {\n",
              "    background-color: var(--bg-color);\n",
              "    border: none;\n",
              "    border-radius: 50%;\n",
              "    cursor: pointer;\n",
              "    display: none;\n",
              "    fill: var(--fill-color);\n",
              "    height: 32px;\n",
              "    padding: 0;\n",
              "    width: 32px;\n",
              "  }\n",
              "\n",
              "  .colab-df-quickchart:hover {\n",
              "    background-color: var(--hover-bg-color);\n",
              "    box-shadow: 0 1px 2px rgba(60, 64, 67, 0.3), 0 1px 3px 1px rgba(60, 64, 67, 0.15);\n",
              "    fill: var(--button-hover-fill-color);\n",
              "  }\n",
              "\n",
              "  .colab-df-quickchart-complete:disabled,\n",
              "  .colab-df-quickchart-complete:disabled:hover {\n",
              "    background-color: var(--disabled-bg-color);\n",
              "    fill: var(--disabled-fill-color);\n",
              "    box-shadow: none;\n",
              "  }\n",
              "\n",
              "  .colab-df-spinner {\n",
              "    border: 2px solid var(--fill-color);\n",
              "    border-color: transparent;\n",
              "    border-bottom-color: var(--fill-color);\n",
              "    animation:\n",
              "      spin 1s steps(1) infinite;\n",
              "  }\n",
              "\n",
              "  @keyframes spin {\n",
              "    0% {\n",
              "      border-color: transparent;\n",
              "      border-bottom-color: var(--fill-color);\n",
              "      border-left-color: var(--fill-color);\n",
              "    }\n",
              "    20% {\n",
              "      border-color: transparent;\n",
              "      border-left-color: var(--fill-color);\n",
              "      border-top-color: var(--fill-color);\n",
              "    }\n",
              "    30% {\n",
              "      border-color: transparent;\n",
              "      border-left-color: var(--fill-color);\n",
              "      border-top-color: var(--fill-color);\n",
              "      border-right-color: var(--fill-color);\n",
              "    }\n",
              "    40% {\n",
              "      border-color: transparent;\n",
              "      border-right-color: var(--fill-color);\n",
              "      border-top-color: var(--fill-color);\n",
              "    }\n",
              "    60% {\n",
              "      border-color: transparent;\n",
              "      border-right-color: var(--fill-color);\n",
              "    }\n",
              "    80% {\n",
              "      border-color: transparent;\n",
              "      border-right-color: var(--fill-color);\n",
              "      border-bottom-color: var(--fill-color);\n",
              "    }\n",
              "    90% {\n",
              "      border-color: transparent;\n",
              "      border-bottom-color: var(--fill-color);\n",
              "    }\n",
              "  }\n",
              "</style>\n",
              "\n",
              "  <script>\n",
              "    async function quickchart(key) {\n",
              "      const quickchartButtonEl =\n",
              "        document.querySelector('#' + key + ' button');\n",
              "      quickchartButtonEl.disabled = true;  // To prevent multiple clicks.\n",
              "      quickchartButtonEl.classList.add('colab-df-spinner');\n",
              "      try {\n",
              "        const charts = await google.colab.kernel.invokeFunction(\n",
              "            'suggestCharts', [key], {});\n",
              "      } catch (error) {\n",
              "        console.error('Error during call to suggestCharts:', error);\n",
              "      }\n",
              "      quickchartButtonEl.classList.remove('colab-df-spinner');\n",
              "      quickchartButtonEl.classList.add('colab-df-quickchart-complete');\n",
              "    }\n",
              "    (() => {\n",
              "      let quickchartButtonEl =\n",
              "        document.querySelector('#df-df8bf797-26d1-4855-a687-c79524f07f2e button');\n",
              "      quickchartButtonEl.style.display =\n",
              "        google.colab.kernel.accessAllowed ? 'block' : 'none';\n",
              "    })();\n",
              "  </script>\n",
              "</div>\n",
              "\n",
              "    </div>\n",
              "  </div>\n"
            ],
            "text/plain": [
              "                                             content  \\\n",
              "0  Abhishek Jha Application Development Associate...   \n",
              "1  Afreen Jamadar Active member of IIIT Committee...   \n",
              "2  Akhil Yadav Polemaina Hyderabad, Telangana - E...   \n",
              "3  Alok Khandai Operational Analyst (SQL DBA) Eng...   \n",
              "4  Ananya Chavan lecturer - oracle tutorials  Mum...   \n",
              "\n",
              "                                          annotation  \\\n",
              "0  [{'label': ['Skills'], 'points': [{'start': 12...   \n",
              "1  [{'label': ['Email Address'], 'points': [{'sta...   \n",
              "2  [{'label': ['Skills'], 'points': [{'start': 37...   \n",
              "3  [{'label': ['Skills'], 'points': [{'start': 80...   \n",
              "4  [{'label': ['Degree'], 'points': [{'start': 20...   \n",
              "\n",
              "                                            entities  \n",
              "0  [(0, 12, Name), (13, 46, Designation), (49, 58...  \n",
              "1  [(0, 14, Name), (62, 68, Location), (104, 148,...  \n",
              "2  [(0, 21, Name), (22, 31, Location), (65, 117, ...  \n",
              "3  [(0, 12, Name), (13, 51, Designation), (54, 60...  \n",
              "4  [(0, 13, Name), (14, 22, Designation), (24, 41...  "
            ]
          },
          "execution_count": 7,
          "metadata": {},
          "output_type": "execute_result"
        }
      ],
      "source": [
        "df_data['entities'] = get_entities(df_data)\n",
        "df_data.head()"
      ]
    },
    {
      "cell_type": "code",
      "execution_count": 8,
      "metadata": {
        "id": "EMRBUNv1SmNf"
      },
      "outputs": [],
      "source": [
        "def convert_dataturks_to_spacy(dataturks_JSON_FilePath):\n",
        "    try:\n",
        "        training_data = []\n",
        "        lines=[]\n",
        "\n",
        "        with open(dataturks_JSON_FilePath, 'r') as f:\n",
        "            lines = f.readlines()\n",
        "\n",
        "        for line in lines:\n",
        "            data = json.loads(line)\n",
        "            text = data['content'].replace(\"\\n\", \" \")\n",
        "            entities = []\n",
        "            data_annotations = data['annotation']\n",
        "\n",
        "            if data_annotations is not None:\n",
        "                for annotation in data_annotations:\n",
        "                    # only a single point in text annotation.\n",
        "                    point = annotation['points'][0]\n",
        "                    labels = annotation['label']\n",
        "                    # handle both list of labels or a single label.\n",
        "                    if not isinstance(labels, list):\n",
        "                        labels = [labels]\n",
        "\n",
        "                    for label in labels:\n",
        "                        point_start = point['start']\n",
        "                        point_end = point['end']\n",
        "                        point_text = point['text']\n",
        "                        lstrip_diff = len(point_text) - len(point_text.lstrip())\n",
        "                        rstrip_diff = len(point_text) - len(point_text.rstrip())\n",
        "\n",
        "                        if lstrip_diff != 0:\n",
        "                            point_start = point_start + lstrip_diff\n",
        "\n",
        "                        if rstrip_diff != 0:\n",
        "                            point_end = point_end - rstrip_diff\n",
        "\n",
        "                        entities.append((point_start, point_end + 1, label))\n",
        "\n",
        "            training_data.append((text, {\"entities\" : entities}))\n",
        "\n",
        "        return training_data\n",
        "\n",
        "    except Exception as e:\n",
        "        logging.exception(\"Unable to process \" + dataturks_JSON_FilePath + \"\\n\" + \"error = \" + str(e))\n",
        "\n",
        "        return None\n",
        "\n",
        "def trim_entity_spans(data: list) -> list:\n",
        "    \"\"\"Removes leading and trailing white spaces from entity spans.\n",
        "\n",
        "    Args:\n",
        "        data (list): The data to be cleaned in spaCy JSON format.\n",
        "\n",
        "    Returns:\n",
        "        list: The cleaned data.\n",
        "    \"\"\"\n",
        "\n",
        "    invalid_span_tokens = re.compile(r'\\s')\n",
        "    cleaned_data = []\n",
        "\n",
        "    for text, annotations in data:\n",
        "        entities = annotations['entities']\n",
        "        valid_entities = []\n",
        "\n",
        "        for start, end, label in entities:\n",
        "            valid_start = start\n",
        "            valid_end = end\n",
        "\n",
        "            while valid_start < len(text) and invalid_span_tokens.match(text[valid_start]):\n",
        "                valid_start += 1\n",
        "\n",
        "            while valid_end > 1 and invalid_span_tokens.match(text[valid_end - 1]):\n",
        "                valid_end -= 1\n",
        "\n",
        "            valid_entities.append([valid_start, valid_end, label])\n",
        "\n",
        "        cleaned_data.append([text, {'entities': valid_entities}])\n",
        "\n",
        "    return cleaned_data"
      ]
    },
    {
      "cell_type": "code",
      "execution_count": 9,
      "metadata": {
        "id": "LS5y6Q9LSmNf"
      },
      "outputs": [],
      "source": [
        "data = trim_entity_spans(convert_dataturks_to_spacy(\"./ner.json\"))"
      ]
    },
    {
      "cell_type": "code",
      "execution_count": 10,
      "metadata": {
        "id": "eM_8TMS8SmNf"
      },
      "outputs": [],
      "source": [
        "def clean_dataset(data):\n",
        "    cleanedDF = pd.DataFrame(columns=[\"setences_cleaned\"])\n",
        "    sum1 = 0\n",
        "\n",
        "    for i in tqdm(range(len(data))):\n",
        "        start = 0\n",
        "        emptyList = [\"Empty\"] * len(data[i][0].split())\n",
        "        numberOfWords = 0\n",
        "        lenOfString = len(data[i][0])\n",
        "        strData = data[i][0]\n",
        "        strDictData = data[i][1]\n",
        "        lastIndexOfSpace = strData.rfind(' ')\n",
        "\n",
        "        for i in range(lenOfString):\n",
        "            if (strData[i] == \" \" and strData[i + 1] != \" \"):\n",
        "                for k,v in strDictData.items():\n",
        "                    for j in range(len(v)):\n",
        "                        entList = v[len(v) - j - 1]\n",
        "\n",
        "                        if (start >= int(entList[0]) and i <= int(entList[1])):\n",
        "                            emptyList[numberOfWords] = entList[2]\n",
        "                            break\n",
        "                        else:\n",
        "                            continue\n",
        "\n",
        "                start = i + 1\n",
        "                numberOfWords += 1\n",
        "\n",
        "            if (i == lastIndexOfSpace):\n",
        "                for j in range(len(v)):\n",
        "                    entList = v[len(v) - j - 1]\n",
        "\n",
        "                    if (lastIndexOfSpace >= int(entList[0]) and lenOfString <= int(entList[1])):\n",
        "                        emptyList[numberOfWords] = entList[2]\n",
        "                        numberOfWords += 1\n",
        "\n",
        "        cleanedDF = pd.concat([cleanedDF, pd.DataFrame([[emptyList]], columns=[\"setences_cleaned\"])], ignore_index=True)\n",
        "        sum1 = sum1 + numberOfWords\n",
        "\n",
        "    return cleanedDF"
      ]
    },
    {
      "cell_type": "code",
      "execution_count": 11,
      "metadata": {
        "colab": {
          "base_uri": "https://localhost:8080/",
          "height": 49,
          "referenced_widgets": [
            "cc89ab91634c44d8b360d8f673376b7a",
            "76687013130c44a88e4e648505b9bd28",
            "d286d6cd432148938772f131b89f5b34",
            "13ce3ca3acd148ff81626e5062008bd7",
            "69922443b6ea4d6ca0c65e7915786ff2",
            "06a8d83ea124489781af20bfceb6b177",
            "35d1f27781b44c5380eac13fb14b8174",
            "0a654ed42ccf45d98cf7cfe79c03190b",
            "cf37410a785c48da8d128043a7f80849",
            "acc2fd8c05f04fceaee1f19feae84807",
            "7a5e598d2c4b42a497d6a45a996639b4"
          ]
        },
        "id": "mRkygwW2SmNg",
        "outputId": "2fdef323-8de2-4672-d38b-f5ef0ac24fbb"
      },
      "outputs": [
        {
          "data": {
            "application/vnd.jupyter.widget-view+json": {
              "model_id": "cc89ab91634c44d8b360d8f673376b7a",
              "version_major": 2,
              "version_minor": 0
            },
            "text/plain": [
              "  0%|          | 0/220 [00:00<?, ?it/s]"
            ]
          },
          "metadata": {},
          "output_type": "display_data"
        }
      ],
      "source": [
        "cleanedDF = clean_dataset(data)"
      ]
    },
    {
      "cell_type": "markdown",
      "metadata": {
        "id": "AEV_-yPcSmNg"
      },
      "source": [
        "Take a look at your cleaned dataset and the categories the named-entities are matched to, or 'tags'."
      ]
    },
    {
      "cell_type": "code",
      "execution_count": 12,
      "metadata": {
        "colab": {
          "base_uri": "https://localhost:8080/",
          "height": 206
        },
        "id": "QVhsuoNqSmNg",
        "outputId": "0276d82c-3712-42d8-8e87-f2e06bbdec22"
      },
      "outputs": [
        {
          "data": {
            "application/vnd.google.colaboratory.intrinsic+json": {
              "summary": "{\n  \"name\": \"cleanedDF\",\n  \"rows\": 220,\n  \"fields\": [\n    {\n      \"column\": \"setences_cleaned\",\n      \"properties\": {\n        \"dtype\": \"object\",\n        \"semantic_type\": \"\",\n        \"description\": \"\"\n      }\n    }\n  ]\n}",
              "type": "dataframe",
              "variable_name": "cleanedDF"
            },
            "text/html": [
              "\n",
              "  <div id=\"df-32613c2f-fe2b-4051-ad1f-65c2da6f5475\" class=\"colab-df-container\">\n",
              "    <div>\n",
              "<style scoped>\n",
              "    .dataframe tbody tr th:only-of-type {\n",
              "        vertical-align: middle;\n",
              "    }\n",
              "\n",
              "    .dataframe tbody tr th {\n",
              "        vertical-align: top;\n",
              "    }\n",
              "\n",
              "    .dataframe thead th {\n",
              "        text-align: right;\n",
              "    }\n",
              "</style>\n",
              "<table border=\"1\" class=\"dataframe\">\n",
              "  <thead>\n",
              "    <tr style=\"text-align: right;\">\n",
              "      <th></th>\n",
              "      <th>setences_cleaned</th>\n",
              "    </tr>\n",
              "  </thead>\n",
              "  <tbody>\n",
              "    <tr>\n",
              "      <th>0</th>\n",
              "      <td>[Name, Name, Designation, Designation, Designa...</td>\n",
              "    </tr>\n",
              "    <tr>\n",
              "      <th>1</th>\n",
              "      <td>[Name, Name, Empty, Empty, Empty, Empty, Empty...</td>\n",
              "    </tr>\n",
              "    <tr>\n",
              "      <th>2</th>\n",
              "      <td>[Name, Name, Name, Empty, Empty, Empty, Empty,...</td>\n",
              "    </tr>\n",
              "    <tr>\n",
              "      <th>3</th>\n",
              "      <td>[Name, Name, Designation, Designation, Designa...</td>\n",
              "    </tr>\n",
              "    <tr>\n",
              "      <th>4</th>\n",
              "      <td>[Name, Name, Designation, Empty, Companies wor...</td>\n",
              "    </tr>\n",
              "  </tbody>\n",
              "</table>\n",
              "</div>\n",
              "    <div class=\"colab-df-buttons\">\n",
              "\n",
              "  <div class=\"colab-df-container\">\n",
              "    <button class=\"colab-df-convert\" onclick=\"convertToInteractive('df-32613c2f-fe2b-4051-ad1f-65c2da6f5475')\"\n",
              "            title=\"Convert this dataframe to an interactive table.\"\n",
              "            style=\"display:none;\">\n",
              "\n",
              "  <svg xmlns=\"http://www.w3.org/2000/svg\" height=\"24px\" viewBox=\"0 -960 960 960\">\n",
              "    <path d=\"M120-120v-720h720v720H120Zm60-500h600v-160H180v160Zm220 220h160v-160H400v160Zm0 220h160v-160H400v160ZM180-400h160v-160H180v160Zm440 0h160v-160H620v160ZM180-180h160v-160H180v160Zm440 0h160v-160H620v160Z\"/>\n",
              "  </svg>\n",
              "    </button>\n",
              "\n",
              "  <style>\n",
              "    .colab-df-container {\n",
              "      display:flex;\n",
              "      gap: 12px;\n",
              "    }\n",
              "\n",
              "    .colab-df-convert {\n",
              "      background-color: #E8F0FE;\n",
              "      border: none;\n",
              "      border-radius: 50%;\n",
              "      cursor: pointer;\n",
              "      display: none;\n",
              "      fill: #1967D2;\n",
              "      height: 32px;\n",
              "      padding: 0 0 0 0;\n",
              "      width: 32px;\n",
              "    }\n",
              "\n",
              "    .colab-df-convert:hover {\n",
              "      background-color: #E2EBFA;\n",
              "      box-shadow: 0px 1px 2px rgba(60, 64, 67, 0.3), 0px 1px 3px 1px rgba(60, 64, 67, 0.15);\n",
              "      fill: #174EA6;\n",
              "    }\n",
              "\n",
              "    .colab-df-buttons div {\n",
              "      margin-bottom: 4px;\n",
              "    }\n",
              "\n",
              "    [theme=dark] .colab-df-convert {\n",
              "      background-color: #3B4455;\n",
              "      fill: #D2E3FC;\n",
              "    }\n",
              "\n",
              "    [theme=dark] .colab-df-convert:hover {\n",
              "      background-color: #434B5C;\n",
              "      box-shadow: 0px 1px 3px 1px rgba(0, 0, 0, 0.15);\n",
              "      filter: drop-shadow(0px 1px 2px rgba(0, 0, 0, 0.3));\n",
              "      fill: #FFFFFF;\n",
              "    }\n",
              "  </style>\n",
              "\n",
              "    <script>\n",
              "      const buttonEl =\n",
              "        document.querySelector('#df-32613c2f-fe2b-4051-ad1f-65c2da6f5475 button.colab-df-convert');\n",
              "      buttonEl.style.display =\n",
              "        google.colab.kernel.accessAllowed ? 'block' : 'none';\n",
              "\n",
              "      async function convertToInteractive(key) {\n",
              "        const element = document.querySelector('#df-32613c2f-fe2b-4051-ad1f-65c2da6f5475');\n",
              "        const dataTable =\n",
              "          await google.colab.kernel.invokeFunction('convertToInteractive',\n",
              "                                                    [key], {});\n",
              "        if (!dataTable) return;\n",
              "\n",
              "        const docLinkHtml = 'Like what you see? Visit the ' +\n",
              "          '<a target=\"_blank\" href=https://colab.research.google.com/notebooks/data_table.ipynb>data table notebook</a>'\n",
              "          + ' to learn more about interactive tables.';\n",
              "        element.innerHTML = '';\n",
              "        dataTable['output_type'] = 'display_data';\n",
              "        await google.colab.output.renderOutput(dataTable, element);\n",
              "        const docLink = document.createElement('div');\n",
              "        docLink.innerHTML = docLinkHtml;\n",
              "        element.appendChild(docLink);\n",
              "      }\n",
              "    </script>\n",
              "  </div>\n",
              "\n",
              "\n",
              "<div id=\"df-4b10915d-7947-489e-94a4-2c23debe3503\">\n",
              "  <button class=\"colab-df-quickchart\" onclick=\"quickchart('df-4b10915d-7947-489e-94a4-2c23debe3503')\"\n",
              "            title=\"Suggest charts\"\n",
              "            style=\"display:none;\">\n",
              "\n",
              "<svg xmlns=\"http://www.w3.org/2000/svg\" height=\"24px\"viewBox=\"0 0 24 24\"\n",
              "     width=\"24px\">\n",
              "    <g>\n",
              "        <path d=\"M19 3H5c-1.1 0-2 .9-2 2v14c0 1.1.9 2 2 2h14c1.1 0 2-.9 2-2V5c0-1.1-.9-2-2-2zM9 17H7v-7h2v7zm4 0h-2V7h2v10zm4 0h-2v-4h2v4z\"/>\n",
              "    </g>\n",
              "</svg>\n",
              "  </button>\n",
              "\n",
              "<style>\n",
              "  .colab-df-quickchart {\n",
              "      --bg-color: #E8F0FE;\n",
              "      --fill-color: #1967D2;\n",
              "      --hover-bg-color: #E2EBFA;\n",
              "      --hover-fill-color: #174EA6;\n",
              "      --disabled-fill-color: #AAA;\n",
              "      --disabled-bg-color: #DDD;\n",
              "  }\n",
              "\n",
              "  [theme=dark] .colab-df-quickchart {\n",
              "      --bg-color: #3B4455;\n",
              "      --fill-color: #D2E3FC;\n",
              "      --hover-bg-color: #434B5C;\n",
              "      --hover-fill-color: #FFFFFF;\n",
              "      --disabled-bg-color: #3B4455;\n",
              "      --disabled-fill-color: #666;\n",
              "  }\n",
              "\n",
              "  .colab-df-quickchart {\n",
              "    background-color: var(--bg-color);\n",
              "    border: none;\n",
              "    border-radius: 50%;\n",
              "    cursor: pointer;\n",
              "    display: none;\n",
              "    fill: var(--fill-color);\n",
              "    height: 32px;\n",
              "    padding: 0;\n",
              "    width: 32px;\n",
              "  }\n",
              "\n",
              "  .colab-df-quickchart:hover {\n",
              "    background-color: var(--hover-bg-color);\n",
              "    box-shadow: 0 1px 2px rgba(60, 64, 67, 0.3), 0 1px 3px 1px rgba(60, 64, 67, 0.15);\n",
              "    fill: var(--button-hover-fill-color);\n",
              "  }\n",
              "\n",
              "  .colab-df-quickchart-complete:disabled,\n",
              "  .colab-df-quickchart-complete:disabled:hover {\n",
              "    background-color: var(--disabled-bg-color);\n",
              "    fill: var(--disabled-fill-color);\n",
              "    box-shadow: none;\n",
              "  }\n",
              "\n",
              "  .colab-df-spinner {\n",
              "    border: 2px solid var(--fill-color);\n",
              "    border-color: transparent;\n",
              "    border-bottom-color: var(--fill-color);\n",
              "    animation:\n",
              "      spin 1s steps(1) infinite;\n",
              "  }\n",
              "\n",
              "  @keyframes spin {\n",
              "    0% {\n",
              "      border-color: transparent;\n",
              "      border-bottom-color: var(--fill-color);\n",
              "      border-left-color: var(--fill-color);\n",
              "    }\n",
              "    20% {\n",
              "      border-color: transparent;\n",
              "      border-left-color: var(--fill-color);\n",
              "      border-top-color: var(--fill-color);\n",
              "    }\n",
              "    30% {\n",
              "      border-color: transparent;\n",
              "      border-left-color: var(--fill-color);\n",
              "      border-top-color: var(--fill-color);\n",
              "      border-right-color: var(--fill-color);\n",
              "    }\n",
              "    40% {\n",
              "      border-color: transparent;\n",
              "      border-right-color: var(--fill-color);\n",
              "      border-top-color: var(--fill-color);\n",
              "    }\n",
              "    60% {\n",
              "      border-color: transparent;\n",
              "      border-right-color: var(--fill-color);\n",
              "    }\n",
              "    80% {\n",
              "      border-color: transparent;\n",
              "      border-right-color: var(--fill-color);\n",
              "      border-bottom-color: var(--fill-color);\n",
              "    }\n",
              "    90% {\n",
              "      border-color: transparent;\n",
              "      border-bottom-color: var(--fill-color);\n",
              "    }\n",
              "  }\n",
              "</style>\n",
              "\n",
              "  <script>\n",
              "    async function quickchart(key) {\n",
              "      const quickchartButtonEl =\n",
              "        document.querySelector('#' + key + ' button');\n",
              "      quickchartButtonEl.disabled = true;  // To prevent multiple clicks.\n",
              "      quickchartButtonEl.classList.add('colab-df-spinner');\n",
              "      try {\n",
              "        const charts = await google.colab.kernel.invokeFunction(\n",
              "            'suggestCharts', [key], {});\n",
              "      } catch (error) {\n",
              "        console.error('Error during call to suggestCharts:', error);\n",
              "      }\n",
              "      quickchartButtonEl.classList.remove('colab-df-spinner');\n",
              "      quickchartButtonEl.classList.add('colab-df-quickchart-complete');\n",
              "    }\n",
              "    (() => {\n",
              "      let quickchartButtonEl =\n",
              "        document.querySelector('#df-4b10915d-7947-489e-94a4-2c23debe3503 button');\n",
              "      quickchartButtonEl.style.display =\n",
              "        google.colab.kernel.accessAllowed ? 'block' : 'none';\n",
              "    })();\n",
              "  </script>\n",
              "</div>\n",
              "\n",
              "    </div>\n",
              "  </div>\n"
            ],
            "text/plain": [
              "                                    setences_cleaned\n",
              "0  [Name, Name, Designation, Designation, Designa...\n",
              "1  [Name, Name, Empty, Empty, Empty, Empty, Empty...\n",
              "2  [Name, Name, Name, Empty, Empty, Empty, Empty,...\n",
              "3  [Name, Name, Designation, Designation, Designa...\n",
              "4  [Name, Name, Designation, Empty, Companies wor..."
            ]
          },
          "execution_count": 12,
          "metadata": {},
          "output_type": "execute_result"
        }
      ],
      "source": [
        "cleanedDF.head()"
      ]
    },
    {
      "cell_type": "markdown",
      "metadata": {
        "id": "uSEEbG6jSmNg"
      },
      "source": [
        "<a name='1-2'></a>\n",
        "### 1.2 - Padding and Generating Tags\n",
        "\n",
        "Now, it is time to generate a list of unique tags you will match the named-entities to."
      ]
    },
    {
      "cell_type": "code",
      "execution_count": 13,
      "metadata": {
        "id": "XrbRC3wZSmNg"
      },
      "outputs": [],
      "source": [
        "unique_tags = set(cleanedDF['setences_cleaned'].explode().unique()) # pd.unique(cleanedDF['setences_cleaned'])#set(tag for doc in cleanedDF['setences_cleaned'].values.tolist() for tag in doc)\n",
        "tag2id = {tag: id for id, tag in enumerate(unique_tags)}\n",
        "id2tag = {id: tag for tag, id in tag2id.items()}"
      ]
    },
    {
      "cell_type": "code",
      "execution_count": 14,
      "metadata": {
        "colab": {
          "base_uri": "https://localhost:8080/"
        },
        "id": "VGcSmkFMSmNg",
        "outputId": "ee884cc1-3af6-44c6-ed79-77a796fef261"
      },
      "outputs": [
        {
          "data": {
            "text/plain": [
              "{'College Name',\n",
              " 'Companies worked at',\n",
              " 'Degree',\n",
              " 'Designation',\n",
              " 'Email Address',\n",
              " 'Empty',\n",
              " 'Graduation Year',\n",
              " 'Location',\n",
              " 'Name',\n",
              " 'Skills',\n",
              " 'UNKNOWN',\n",
              " 'Years of Experience'}"
            ]
          },
          "execution_count": 14,
          "metadata": {},
          "output_type": "execute_result"
        }
      ],
      "source": [
        "unique_tags"
      ]
    },
    {
      "cell_type": "markdown",
      "metadata": {
        "id": "E34xKvn5SmNh"
      },
      "source": [
        "Next, you will create an array of tags from your cleaned dataset. Oftentimes, your input sequence can exceeds the maximum length of a sequence your network can process, so it needs to be cut off to that desired maximum length. And when the input sequence is shorter than the desired length, you need to append zeroes onto its end using this [Keras padding API](https://www.tensorflow.org/api_docs/python/tf/keras/preprocessing/sequence/pad_sequences)."
      ]
    },
    {
      "cell_type": "code",
      "execution_count": 15,
      "metadata": {
        "id": "UBgQhuvgSmNh"
      },
      "outputs": [],
      "source": [
        "MAX_LEN = 512\n",
        "labels = cleanedDF['setences_cleaned'].values.tolist()\n",
        "tags = preprocessing.sequence.pad_sequences([[tag2id.get(l) for l in lab] for lab in labels],\n",
        "                                            maxlen=MAX_LEN, value=tag2id[\"Empty\"], padding=\"post\",\n",
        "                                            dtype=\"long\", truncating=\"post\")"
      ]
    },
    {
      "cell_type": "code",
      "execution_count": 16,
      "metadata": {
        "colab": {
          "base_uri": "https://localhost:8080/"
        },
        "id": "LO9lnVHKSmNh",
        "outputId": "ab2b00a6-a96a-41e0-fd91-6628e765de22"
      },
      "outputs": [
        {
          "data": {
            "text/plain": [
              "array([[ 6,  6,  1, ..., 10, 10, 10],\n",
              "       [ 6,  6, 10, ..., 10, 10, 10],\n",
              "       [ 6,  6,  6, ..., 10,  8, 10],\n",
              "       ...,\n",
              "       [ 6,  6,  1, ..., 10, 10, 10],\n",
              "       [ 6,  6,  1, ..., 10, 10, 10],\n",
              "       [ 6,  6,  1, ..., 10, 10, 10]])"
            ]
          },
          "execution_count": 16,
          "metadata": {},
          "output_type": "execute_result"
        }
      ],
      "source": [
        "tags"
      ]
    },
    {
      "cell_type": "markdown",
      "metadata": {
        "id": "rU2Bhn8SSmNh"
      },
      "source": [
        "<a name='1-3'></a>\n",
        "### 1.3 - Tokenize and Align Labels with 🤗 Library\n",
        "\n",
        "Before feeding the texts to a Transformer model, you will need to tokenize your input using a [🤗 Transformer tokenizer](https://huggingface.co/transformers/main_classes/tokenizer.html). It is crucial that the tokenizer you use must match the Transformer model type you are using! In this exercise, you will use the 🤗 [DistilBERT fast tokenizer](https://huggingface.co/transformers/model_doc/distilbert.html), which standardizes the length of your sequence to 512 and pads with zeros. Notice this matches the maximum length you used when creating tags."
      ]
    },
    {
      "cell_type": "code",
      "execution_count": 17,
      "metadata": {
        "deletable": false,
        "edittable": false,
        "id": "y7zKfWhwSmNh"
      },
      "outputs": [],
      "source": [
        "gpus = tf.config.list_physical_devices('GPU')\n",
        "\n",
        "if gpus:\n",
        "    for gpu in gpus:\n",
        "        tf.config.experimental.set_virtual_device_configuration(gpu,[tf.config.experimental.VirtualDeviceConfiguration(memory_limit=4096)])"
      ]
    },
    {
      "cell_type": "code",
      "execution_count": 18,
      "metadata": {
        "id": "VQLCiBPFSmNh"
      },
      "outputs": [],
      "source": [
        "tokenizer = DistilBertTokenizerFast.from_pretrained('./tokenizer/')"
      ]
    },
    {
      "cell_type": "markdown",
      "metadata": {
        "id": "SaWnffqtSmNi"
      },
      "source": [
        "Transformer models are often trained by tokenizers that split words into subwords. For instance, the word 'Africa' might get split into multiple subtokens. This can create some misalignment between the list of tags for the dataset and the list of labels generated by the tokenizer, since the tokenizer can split one word into several, or add special tokens. Before processing, it is important that you align the lists of tags and the list of labels generated by the selected tokenizer with a `tokenize_and_align_labels()` function.\n",
        "\n",
        "<a name='ex-1'></a>\n",
        "### Exercise 1 - tokenize_and_align_labels\n",
        "\n",
        "Implement `tokenize_and_align_labels()`. The function should perform the following:\n",
        "* The tokenizer cuts sequences that exceed the maximum size allowed by your model with the parameter `truncation=True`\n",
        "* Aligns the list of tags and labels with the tokenizer `word_ids` method returns a list that maps the subtokens to the original word in the sentence and special tokens to `None`.\n",
        "* Set the labels of all the special tokens (`None`) to -100 to prevent them from affecting the loss function.\n",
        "* Label of the first subtoken of a word and set the label for the following subtokens to -100."
      ]
    },
    {
      "cell_type": "code",
      "execution_count": 19,
      "metadata": {
        "id": "-kMnMhaVSmNi"
      },
      "outputs": [],
      "source": [
        "label_all_tokens = True\n",
        "\n",
        "def tokenize_and_align_labels(tokenizer, examples, tags):\n",
        "    tokenized_inputs = tokenizer(examples, truncation=True, is_split_into_words=False, padding='max_length', max_length=512)\n",
        "    labels = []\n",
        "\n",
        "    for i, label in enumerate(tags):\n",
        "        word_ids = tokenized_inputs.word_ids(batch_index=i)\n",
        "        previous_word_idx = None\n",
        "        label_ids = []\n",
        "\n",
        "        for word_idx in word_ids:\n",
        "            # Special tokens have a word id that is None. We set the label to -100 so they are automatically\n",
        "            # ignored in the loss function.\n",
        "            if word_idx is None:\n",
        "                label_ids.append(-100)\n",
        "            # We set the label for the first token of each word.\n",
        "            elif word_idx != previous_word_idx:\n",
        "                label_ids.append(label[word_idx])\n",
        "            # For the other tokens in a word, we set the label to either the current label or -100, depending on\n",
        "            # the label_all_tokens flag.\n",
        "            else:\n",
        "                label_ids.append(label[word_idx] if label_all_tokens else -100)\n",
        "\n",
        "            previous_word_idx = word_idx\n",
        "\n",
        "        labels.append(label_ids)\n",
        "\n",
        "    tokenized_inputs[\"labels\"] = labels\n",
        "\n",
        "    return tokenized_inputs"
      ]
    },
    {
      "cell_type": "markdown",
      "metadata": {
        "id": "xPBU4-wbSmNi"
      },
      "source": [
        "Now that you have tokenized inputs, you can create train and test datasets!"
      ]
    },
    {
      "cell_type": "code",
      "execution_count": 20,
      "metadata": {
        "id": "K0yzI3r6SmNi"
      },
      "outputs": [],
      "source": [
        "test = tokenize_and_align_labels(tokenizer, df_data['content'].values.tolist(), tags)\n",
        "train_dataset = tf.data.Dataset.from_tensor_slices((test['input_ids'], test['labels']))"
      ]
    },
    {
      "cell_type": "markdown",
      "metadata": {
        "id": "qtjdGvvDSmNi"
      },
      "source": [
        "<a name='1-4'></a>\n",
        "### 1.4 - Optimization\n",
        "\n",
        "Fantastic! Now you can finally feed your data into into a pretrained 🤗 model. You will optimize a DistilBERT model, which matches the tokenizer you used to preprocess your data. Try playing around with the different hyperparamters to improve your results!"
      ]
    },
    {
      "cell_type": "code",
      "execution_count": 21,
      "metadata": {
        "colab": {
          "base_uri": "https://localhost:8080/",
          "height": 292,
          "referenced_widgets": [
            "1a271d13ce64497693771f5fb37d422d",
            "d80514a5972349efaded304a6e323612",
            "260604a7345a43218b3909c9a2762ec5",
            "c557ca4fcfb649a68ecf02b22803f1ec",
            "f2d663dc601543a0b220c4196a42069b",
            "d080734055a048308f72e97d25eaec19",
            "68ddeddafd4545cf90d3815eff0765d9",
            "5f348240266048f19529f8f0702b72cc",
            "cc85c58c54b041f4ba8673d5216cf1cb",
            "a1a86eadbd8f47f6bf6de28a76498a83",
            "e25ff08b8dec46cc809afe6e681881ac",
            "dabd5de6ab27481ba7323b7309671343",
            "39b5d6ce99b8411ba8aadd10c93495e9",
            "bddb6f5b8ab7430aa8c8236961e17f31",
            "a68de713e7db4e5f83447883e3f31335",
            "61fcbfb8ece34d7b8c72ea7f2a693101",
            "f801fe5aa22f45b3a9a56fbd674eee3c",
            "d0af9b4cd2b148d1a1a55c4ef4c74581",
            "1c24f04bf4b1413990657f47a1f22ebd",
            "f4384e69301f43e28c5802955e9acb31",
            "739b071f97ad4e17891d1d6bac78f831",
            "4922f05fdedf4b93b8483a30facf4351"
          ]
        },
        "id": "KCM3teHASmNi",
        "outputId": "7e9a3d69-f88c-41b8-a198-c1311637b629"
      },
      "outputs": [
        {
          "name": "stderr",
          "output_type": "stream",
          "text": [
            "/usr/local/lib/python3.10/dist-packages/huggingface_hub/utils/_token.py:89: UserWarning: \n",
            "The secret `HF_TOKEN` does not exist in your Colab secrets.\n",
            "To authenticate with the Hugging Face Hub, create a token in your settings tab (https://huggingface.co/settings/tokens), set it as secret in your Google Colab and restart your session.\n",
            "You will be able to reuse this secret in all of your notebooks.\n",
            "Please note that authentication is recommended but still optional to access public models or datasets.\n",
            "  warnings.warn(\n"
          ]
        },
        {
          "data": {
            "application/vnd.jupyter.widget-view+json": {
              "model_id": "1a271d13ce64497693771f5fb37d422d",
              "version_major": 2,
              "version_minor": 0
            },
            "text/plain": [
              "config.json:   0%|          | 0.00/483 [00:00<?, ?B/s]"
            ]
          },
          "metadata": {},
          "output_type": "display_data"
        },
        {
          "data": {
            "application/vnd.jupyter.widget-view+json": {
              "model_id": "dabd5de6ab27481ba7323b7309671343",
              "version_major": 2,
              "version_minor": 0
            },
            "text/plain": [
              "model.safetensors:   0%|          | 0.00/268M [00:00<?, ?B/s]"
            ]
          },
          "metadata": {},
          "output_type": "display_data"
        },
        {
          "name": "stderr",
          "output_type": "stream",
          "text": [
            "Some weights of the PyTorch model were not used when initializing the TF 2.0 model TFDistilBertForTokenClassification: ['vocab_projector.bias', 'vocab_transform.weight', 'vocab_layer_norm.weight', 'vocab_layer_norm.bias', 'vocab_transform.bias']\n",
            "- This IS expected if you are initializing TFDistilBertForTokenClassification from a PyTorch model trained on another task or with another architecture (e.g. initializing a TFBertForSequenceClassification model from a BertForPreTraining model).\n",
            "- This IS NOT expected if you are initializing TFDistilBertForTokenClassification from a PyTorch model that you expect to be exactly identical (e.g. initializing a TFBertForSequenceClassification model from a BertForSequenceClassification model).\n",
            "Some weights or buffers of the TF 2.0 model TFDistilBertForTokenClassification were not initialized from the PyTorch model and are newly initialized: ['classifier.weight', 'classifier.bias']\n",
            "You should probably TRAIN this model on a down-stream task to be able to use it for predictions and inference.\n"
          ]
        }
      ],
      "source": [
        "model = TFDistilBertForTokenClassification.from_pretrained('distilbert-base-uncased', num_labels=len(unique_tags))"
      ]
    },
    {
      "cell_type": "code",
      "execution_count": 23,
      "metadata": {
        "colab": {
          "base_uri": "https://localhost:8080/"
        },
        "id": "s5IrDfg0SmNi",
        "outputId": "1b7aebdd-8d43-4c74-9ca7-3f7a85d3b23b"
      },
      "outputs": [
        {
          "name": "stdout",
          "output_type": "stream",
          "text": [
            "Epoch 1/10\n"
          ]
        },
        {
          "name": "stderr",
          "output_type": "stream",
          "text": [
            "WARNING:tensorflow:AutoGraph could not transform <function infer_framework at 0x79d1f5d42a70> and will run it as-is.\n",
            "Cause: for/else statement not yet supported\n",
            "To silence this warning, decorate the function with @tf.autograph.experimental.do_not_convert\n"
          ]
        },
        {
          "name": "stdout",
          "output_type": "stream",
          "text": [
            "WARNING: AutoGraph could not transform <function infer_framework at 0x79d1f5d42a70> and will run it as-is.\n",
            "Cause: for/else statement not yet supported\n",
            "To silence this warning, decorate the function with @tf.autograph.experimental.do_not_convert\n",
            "55/55 [==============================] - 71s 258ms/step - loss: 0.8447 - accuracy: 0.7070\n",
            "Epoch 2/10\n",
            "55/55 [==============================] - 14s 260ms/step - loss: 0.4806 - accuracy: 0.7537\n",
            "Epoch 3/10\n",
            "55/55 [==============================] - 15s 265ms/step - loss: 0.4444 - accuracy: 0.7578\n",
            "Epoch 4/10\n",
            "55/55 [==============================] - 14s 259ms/step - loss: 0.4213 - accuracy: 0.7622\n",
            "Epoch 5/10\n",
            "55/55 [==============================] - 14s 259ms/step - loss: 0.4045 - accuracy: 0.7623\n",
            "Epoch 6/10\n",
            "55/55 [==============================] - 15s 269ms/step - loss: 0.3868 - accuracy: 0.7632\n",
            "Epoch 7/10\n",
            "55/55 [==============================] - 14s 259ms/step - loss: 0.3706 - accuracy: 0.7639\n",
            "Epoch 8/10\n",
            "55/55 [==============================] - 14s 258ms/step - loss: 0.3553 - accuracy: 0.7654\n",
            "Epoch 9/10\n",
            "55/55 [==============================] - 14s 262ms/step - loss: 0.3407 - accuracy: 0.7686\n",
            "Epoch 10/10\n",
            "55/55 [==============================] - 14s 259ms/step - loss: 0.3275 - accuracy: 0.7731\n"
          ]
        },
        {
          "data": {
            "text/plain": [
              "<tf_keras.src.callbacks.History at 0x79d1be62ded0>"
            ]
          },
          "execution_count": 23,
          "metadata": {},
          "output_type": "execute_result"
        }
      ],
      "source": [
        "optimizer = optimizers.Adam(learning_rate=1e-5)\n",
        "model.compile(optimizer=optimizer, loss=model.hf_compute_loss, metrics=['accuracy']) # can also use any keras loss fn\n",
        "model.fit(train_dataset.batch(4), epochs=10, batch_size=4)"
      ]
    },
    {
      "cell_type": "code",
      "execution_count": 24,
      "metadata": {
        "id": "Ra1kMSAZSmNj"
      },
      "outputs": [],
      "source": [
        "text = \"Manisha Bharti. 3.5 years of professional IT experience in Banking and Finance domain\"\n",
        "inputs = tokenizer(text, return_tensors=\"tf\", truncation=True, is_split_into_words=False, padding=\"max_length\", max_length=512)\n",
        "input_ids = inputs[\"input_ids\"]"
      ]
    },
    {
      "cell_type": "code",
      "execution_count": 25,
      "metadata": {
        "colab": {
          "base_uri": "https://localhost:8080/"
        },
        "id": "PgZ1ACP6SmNj",
        "outputId": "2f7f7d33-bd11-45e0-d3aa-61d6ac635604"
      },
      "outputs": [
        {
          "name": "stdout",
          "output_type": "stream",
          "text": [
            "[[ 6  6  6  6  6  6 10 10 10 10 10  6 10 10 10 10 10 10 10 10 10 10 10 10\n",
            "  10 10  6  6 10 10 10 10  6 10 10 10 10 10 10 10 10 10 10 10 10 10 10 10\n",
            "  10 10 10 10 10 10  6  6  6  6  6  6 10 10 10 10 10 10 10 10 10 10 10 10\n",
            "  10 10 10 10 10 10 10 10 10 10 10 10  6  6  6  6  6 10 10 10 10 10 10 10\n",
            "  10 10 10 10 10 10 10 10 10 10 10 10 10 10  6  6  6  6  6  6 10 10 10 10\n",
            "  10 10 10 10 10 10 10 10 10  6  6  6  6  6 10 10 10 10 10 10 10 10 10 10\n",
            "   6  6  6 10 10 10 10 10 10 10 10 10 10 10 10 10 10 10 10 10 10 10 10 10\n",
            "  10 10 10 10  6  6 10  6  6  6  6  6 10 10 10 10 10 10 10 10 10 10 10 10\n",
            "  10 10 10 10 10 10 10 10 10 10 10 10 10 10  6 10 10 10 10  6  6  6  6  6\n",
            "  10 10 10 10 10 10 10 10 10 10 10 10 10 10 10 10 10 10 10 10 10 10 10 10\n",
            "  10  6 10 10 10 10 10 10 10 10 10 10  6  6  6  6  6  6 10 10 10 10 10 10\n",
            "  10 10 10 10 10 10 10 10 10 10 10 10 10 10 10 10 10 10 10 10 10 10 10 10\n",
            "  10 10 10 10 10 10 10 10 10 10 10 10 10 10 10 10 10 10 10 10 10 10 10 10\n",
            "  10 10 10 10 10 10 10 10 10 10 10 10 10 10 10 10 10 10 10 10 10 10 10 10\n",
            "  10 10 10 10 10 10  6  6  6  6  6  6 10 10 10 10 10 10 10 10 10 10 10 10\n",
            "  10 10 10 10 10 10 10 10 10  6  6  6  6  6  6 10 10 10 10 10 10 10 10  6\n",
            "   6  6  6  6 10 10  6  6 10 10 10  6  6  6 10 10 10 10 10 10 10 10 10 10\n",
            "  10 10 10 10 10 10 10 10 10 10 10  6  6  6  6  6  6  6 10 10 10 10 10 10\n",
            "  10 10 10 10 10 10 10 10 10 10 10 10 10 10 10 10 10 10 10 10  6 10 10 10\n",
            "   6  6  6  6  6 10 10 10 10 10 10 10 10 10 10 10 10 10 10 10 10 10 10 10\n",
            "  10 10 10 10 10 10 10 10  6 10 10 10  6  6 10 10 10 10 10 10 10 10 10 10\n",
            "  10 10 10 10 10 10 10 10]]\n"
          ]
        }
      ],
      "source": [
        "output = model(inputs).logits\n",
        "prediction = np.argmax(output, axis=2)\n",
        "print(prediction)"
      ]
    },
    {
      "cell_type": "code",
      "execution_count": 26,
      "metadata": {
        "colab": {
          "base_uri": "https://localhost:8080/"
        },
        "id": "xDtokaCZSmNj",
        "outputId": "bf17980a-1f7f-4ad4-ab4d-533e5a9e58e2"
      },
      "outputs": [
        {
          "data": {
            "text/plain": [
              "TFTokenClassifierOutput(loss=None, logits=<tf.Tensor: shape=(1, 512, 12), dtype=float32, numpy=\n",
              "array([[[-0.27372226,  0.12147675, -0.38822255, ...,  0.54373085,\n",
              "          0.47101098, -0.10018534],\n",
              "        [-0.5809883 , -0.1702703 , -0.21432813, ...,  0.14576617,\n",
              "          0.14667621, -0.30409807],\n",
              "        [-0.5357658 ,  0.17962743, -0.46024215, ...,  0.00728419,\n",
              "          0.3902087 , -0.6760254 ],\n",
              "        ...,\n",
              "        [ 0.00771101,  0.36285752, -0.28641355, ...,  0.0854078 ,\n",
              "          1.1262949 , -0.42519015],\n",
              "        [ 0.04543524,  0.31444517, -0.16233408, ...,  0.0945491 ,\n",
              "          1.0111127 , -0.32308638],\n",
              "        [ 0.03668613,  0.37891534, -0.30553678, ...,  0.14922407,\n",
              "          1.0918163 , -0.37793997]]], dtype=float32)>, hidden_states=None, attentions=None)"
            ]
          },
          "execution_count": 26,
          "metadata": {},
          "output_type": "execute_result"
        }
      ],
      "source": [
        "model(inputs)"
      ]
    },
    {
      "cell_type": "code",
      "execution_count": 27,
      "metadata": {
        "id": "WQsYX6uuSmNj"
      },
      "outputs": [],
      "source": [
        "pred_labels = []"
      ]
    },
    {
      "cell_type": "code",
      "execution_count": 28,
      "metadata": {
        "colab": {
          "base_uri": "https://localhost:8080/"
        },
        "id": "ArVUh3yiSmNk",
        "outputId": "b0e2cbb7-18a8-49ae-e103-627bf021b7a0"
      },
      "outputs": [
        {
          "data": {
            "text/plain": [
              "(220, 512)"
            ]
          },
          "execution_count": 28,
          "metadata": {},
          "output_type": "execute_result"
        }
      ],
      "source": [
        "true_labels = [[id2tag.get(true_index, \"Empty\") for true_index in test['labels'][i]] for i in range(len(test['labels']))]\n",
        "np.array(true_labels).shape"
      ]
    },
    {
      "cell_type": "code",
      "execution_count": 29,
      "metadata": {
        "colab": {
          "base_uri": "https://localhost:8080/"
        },
        "id": "5hjYUq2DSmNk",
        "outputId": "21d2c904-81a8-4ed0-affc-7b0b18622e5f"
      },
      "outputs": [
        {
          "name": "stdout",
          "output_type": "stream",
          "text": [
            "220/220 [==============================] - 8s 22ms/step\n"
          ]
        }
      ],
      "source": [
        "output = model.predict(train_dataset)"
      ]
    },
    {
      "cell_type": "code",
      "execution_count": 30,
      "metadata": {
        "id": "12pq8e8uSmNk"
      },
      "outputs": [],
      "source": [
        "predictions = np.argmax(output['logits'].reshape(220, -1, 12), axis=-1)"
      ]
    },
    {
      "cell_type": "code",
      "execution_count": 31,
      "metadata": {
        "colab": {
          "base_uri": "https://localhost:8080/"
        },
        "id": "JqltjN8LSmNl",
        "outputId": "a1d79d3e-0aad-4ad3-bdd1-5cb80fee66bd"
      },
      "outputs": [
        {
          "data": {
            "text/plain": [
              "(220, 512)"
            ]
          },
          "execution_count": 31,
          "metadata": {},
          "output_type": "execute_result"
        }
      ],
      "source": [
        "predictions.shape"
      ]
    },
    {
      "cell_type": "code",
      "execution_count": 32,
      "metadata": {
        "colab": {
          "base_uri": "https://localhost:8080/",
          "height": 567
        },
        "id": "7eJp65B3SmNl",
        "outputId": "73bf004b-5a75-489f-81bd-eda613d6fb77"
      },
      "outputs": [
        {
          "data": {
            "image/png": "[encoded data removed]",
            "text/plain": [
              "<Figure size 640x480 with 1 Axes>"
            ]
          },
          "metadata": {},
          "output_type": "display_data"
        }
      ],
      "source": [
        "plt.figure()\n",
        "p = plt.hist(np.array(true_labels).flatten())\n",
        "plt.xticks(rotation='vertical')\n",
        "plt.show()"
      ]
    },
    {
      "cell_type": "code",
      "execution_count": 33,
      "metadata": {
        "colab": {
          "base_uri": "https://localhost:8080/"
        },
        "id": "0QQorUNeSmNl",
        "outputId": "80062afd-a9f0-4f21-f94a-81b33fa43085"
      },
      "outputs": [
        {
          "data": {
            "text/plain": [
              "Counter({'Empty': 103155,\n",
              "         'Name': 1035,\n",
              "         'Designation': 1100,\n",
              "         'Email Address': 76,\n",
              "         'Companies worked at': 908,\n",
              "         'College Name': 792,\n",
              "         'Skills': 4704,\n",
              "         'Degree': 598,\n",
              "         'Graduation Year': 80,\n",
              "         'Location': 116,\n",
              "         'Years of Experience': 75,\n",
              "         'UNKNOWN': 1})"
            ]
          },
          "execution_count": 33,
          "metadata": {},
          "output_type": "execute_result"
        }
      ],
      "source": [
        "Counter(np.array(true_labels).flatten())"
      ]
    },
    {
      "cell_type": "code",
      "execution_count": 34,
      "metadata": {
        "colab": {
          "base_uri": "https://localhost:8080/",
          "height": 567
        },
        "id": "RLQOrwAMSmNl",
        "outputId": "bff9c75e-9beb-4337-fe3b-32be101f71b1"
      },
      "outputs": [
        {
          "data": {
            "image/png": "[encoded data removed]",
            "text/plain": [
              "<Figure size 640x480 with 1 Axes>"
            ]
          },
          "metadata": {},
          "output_type": "display_data"
        }
      ],
      "source": [
        "pred_labels = [[id2tag.get(index, \"Empty\") for index in predictions[i]] for i in range(len(predictions))]\n",
        "\n",
        "plt.figure()\n",
        "p = plt.hist(np.array(pred_labels).flatten())\n",
        "plt.xticks(rotation='vertical')\n",
        "plt.show()"
      ]
    },
    {
      "cell_type": "code",
      "execution_count": 35,
      "metadata": {
        "colab": {
          "base_uri": "https://localhost:8080/"
        },
        "id": "yUtx8_DwSmNl",
        "outputId": "3a3e8c82-5070-4cde-b43f-dd6722858c51"
      },
      "outputs": [
        {
          "name": "stdout",
          "output_type": "stream",
          "text": [
            "                     precision    recall  f1-score   support\n",
            "\n",
            "       College Name       0.00      0.00      0.00        10\n",
            "Companies worked at       0.00      0.00      0.00         1\n",
            "        Designation       1.00      0.30      0.46        10\n",
            "      Email Address       0.00      0.00      0.00         1\n",
            "              Empty       0.94      0.95      0.94       401\n",
            "               Name       1.00      1.00      1.00         6\n",
            "             Skills       0.77      0.89      0.83        83\n",
            "\n",
            "           accuracy                           0.91       512\n",
            "          macro avg       0.53      0.45      0.46       512\n",
            "       weighted avg       0.89      0.91      0.89       512\n",
            "\n"
          ]
        },
        {
          "name": "stderr",
          "output_type": "stream",
          "text": [
            "/usr/local/lib/python3.10/dist-packages/sklearn/metrics/_classification.py:1344: UndefinedMetricWarning: Precision and F-score are ill-defined and being set to 0.0 in labels with no predicted samples. Use `zero_division` parameter to control this behavior.\n",
            "  _warn_prf(average, modifier, msg_start, len(result))\n",
            "/usr/local/lib/python3.10/dist-packages/sklearn/metrics/_classification.py:1344: UndefinedMetricWarning: Precision and F-score are ill-defined and being set to 0.0 in labels with no predicted samples. Use `zero_division` parameter to control this behavior.\n",
            "  _warn_prf(average, modifier, msg_start, len(result))\n",
            "/usr/local/lib/python3.10/dist-packages/sklearn/metrics/_classification.py:1344: UndefinedMetricWarning: Precision and F-score are ill-defined and being set to 0.0 in labels with no predicted samples. Use `zero_division` parameter to control this behavior.\n",
            "  _warn_prf(average, modifier, msg_start, len(result))\n"
          ]
        }
      ],
      "source": [
        "print(classification_report(true_labels[0], pred_labels[0]))"
      ]
    },
    {
      "cell_type": "markdown",
      "metadata": {
        "id": "Z1tEMdmXSmNl"
      },
      "source": [
        "### Congratulations!\n",
        "\n",
        "#### Here's what you should remember\n",
        "\n",
        "- Named-entity recognition (NER) detects and classifies named-entities, and can help process resumes, customer reviews, browsing histories, etc.\n",
        "- You must preprocess text data with the corresponding tokenizer to the pretrained model before feeding your input into your Transformer model."
      ]
    }
  ],
  "metadata": {
    "accelerator": "GPU",
    "colab": {
      "gpuType": "T4",
      "provenance": []
    },
    "kernelspec": {
      "display_name": "Python 3",
      "name": "python3"
    },
    "language_info": {
      "codemirror_mode": {
        "name": "ipython",
        "version": 3
      },
      "file_extension": ".py",
      "mimetype": "text/x-python",
      "name": "python",
      "nbconvert_exporter": "python",
      "pygments_lexer": "ipython3",
      "version": "3.11.9"
    },
    "widgets": {
      "application/vnd.jupyter.widget-state+json": {
        "06a8d83ea124489781af20bfceb6b177": {
          "model_module": "@jupyter-widgets/base",
          "model_module_version": "1.2.0",
          "model_name": "LayoutModel",
          "state": {
            "_model_module": "@jupyter-widgets/base",
            "_model_module_version": "1.2.0",
            "_model_name": "LayoutModel",
            "_view_count": null,
            "_view_module": "@jupyter-widgets/base",
            "_view_module_version": "1.2.0",
            "_view_name": "LayoutView",
            "align_content": null,
            "align_items": null,
            "align_self": null,
            "border": null,
            "bottom": null,
            "display": null,
            "flex": null,
            "flex_flow": null,
            "grid_area": null,
            "grid_auto_columns": null,
            "grid_auto_flow": null,
            "grid_auto_rows": null,
            "grid_column": null,
            "grid_gap": null,
            "grid_row": null,
            "grid_template_areas": null,
            "grid_template_columns": null,
            "grid_template_rows": null,
            "height": null,
            "justify_content": null,
            "justify_items": null,
            "left": null,
            "margin": null,
            "max_height": null,
            "max_width": null,
            "min_height": null,
            "min_width": null,
            "object_fit": null,
            "object_position": null,
            "order": null,
            "overflow": null,
            "overflow_x": null,
            "overflow_y": null,
            "padding": null,
            "right": null,
            "top": null,
            "visibility": null,
            "width": null
          }
        },
        "0a654ed42ccf45d98cf7cfe79c03190b": {
          "model_module": "@jupyter-widgets/base",
          "model_module_version": "1.2.0",
          "model_name": "LayoutModel",
          "state": {
            "_model_module": "@jupyter-widgets/base",
            "_model_module_version": "1.2.0",
            "_model_name": "LayoutModel",
            "_view_count": null,
            "_view_module": "@jupyter-widgets/base",
            "_view_module_version": "1.2.0",
            "_view_name": "LayoutView",
            "align_content": null,
            "align_items": null,
            "align_self": null,
            "border": null,
            "bottom": null,
            "display": null,
            "flex": null,
            "flex_flow": null,
            "grid_area": null,
            "grid_auto_columns": null,
            "grid_auto_flow": null,
            "grid_auto_rows": null,
            "grid_column": null,
            "grid_gap": null,
            "grid_row": null,
            "grid_template_areas": null,
            "grid_template_columns": null,
            "grid_template_rows": null,
            "height": null,
            "justify_content": null,
            "justify_items": null,
            "left": null,
            "margin": null,
            "max_height": null,
            "max_width": null,
            "min_height": null,
            "min_width": null,
            "object_fit": null,
            "object_position": null,
            "order": null,
            "overflow": null,
            "overflow_x": null,
            "overflow_y": null,
            "padding": null,
            "right": null,
            "top": null,
            "visibility": null,
            "width": null
          }
        },
        "13ce3ca3acd148ff81626e5062008bd7": {
          "model_module": "@jupyter-widgets/controls",
          "model_module_version": "1.5.0",
          "model_name": "HTMLModel",
          "state": {
            "_dom_classes": [],
            "_model_module": "@jupyter-widgets/controls",
            "_model_module_version": "1.5.0",
            "_model_name": "HTMLModel",
            "_view_count": null,
            "_view_module": "@jupyter-widgets/controls",
            "_view_module_version": "1.5.0",
            "_view_name": "HTMLView",
            "description": "",
            "description_tooltip": null,
            "layout": "IPY_MODEL_acc2fd8c05f04fceaee1f19feae84807",
            "placeholder": "​",
            "style": "IPY_MODEL_7a5e598d2c4b42a497d6a45a996639b4",
            "value": " 220/220 [00:02&lt;00:00, 154.25it/s]"
          }
        },
        "1a271d13ce64497693771f5fb37d422d": {
          "model_module": "@jupyter-widgets/controls",
          "model_module_version": "1.5.0",
          "model_name": "HBoxModel",
          "state": {
            "_dom_classes": [],
            "_model_module": "@jupyter-widgets/controls",
            "_model_module_version": "1.5.0",
            "_model_name": "HBoxModel",
            "_view_count": null,
            "_view_module": "@jupyter-widgets/controls",
            "_view_module_version": "1.5.0",
            "_view_name": "HBoxView",
            "box_style": "",
            "children": [
              "IPY_MODEL_d80514a5972349efaded304a6e323612",
              "IPY_MODEL_260604a7345a43218b3909c9a2762ec5",
              "IPY_MODEL_c557ca4fcfb649a68ecf02b22803f1ec"
            ],
            "layout": "IPY_MODEL_f2d663dc601543a0b220c4196a42069b"
          }
        },
        "1c24f04bf4b1413990657f47a1f22ebd": {
          "model_module": "@jupyter-widgets/base",
          "model_module_version": "1.2.0",
          "model_name": "LayoutModel",
          "state": {
            "_model_module": "@jupyter-widgets/base",
            "_model_module_version": "1.2.0",
            "_model_name": "LayoutModel",
            "_view_count": null,
            "_view_module": "@jupyter-widgets/base",
            "_view_module_version": "1.2.0",
            "_view_name": "LayoutView",
            "align_content": null,
            "align_items": null,
            "align_self": null,
            "border": null,
            "bottom": null,
            "display": null,
            "flex": null,
            "flex_flow": null,
            "grid_area": null,
            "grid_auto_columns": null,
            "grid_auto_flow": null,
            "grid_auto_rows": null,
            "grid_column": null,
            "grid_gap": null,
            "grid_row": null,
            "grid_template_areas": null,
            "grid_template_columns": null,
            "grid_template_rows": null,
            "height": null,
            "justify_content": null,
            "justify_items": null,
            "left": null,
            "margin": null,
            "max_height": null,
            "max_width": null,
            "min_height": null,
            "min_width": null,
            "object_fit": null,
            "object_position": null,
            "order": null,
            "overflow": null,
            "overflow_x": null,
            "overflow_y": null,
            "padding": null,
            "right": null,
            "top": null,
            "visibility": null,
            "width": null
          }
        },
        "260604a7345a43218b3909c9a2762ec5": {
          "model_module": "@jupyter-widgets/controls",
          "model_module_version": "1.5.0",
          "model_name": "FloatProgressModel",
          "state": {
            "_dom_classes": [],
            "_model_module": "@jupyter-widgets/controls",
            "_model_module_version": "1.5.0",
            "_model_name": "FloatProgressModel",
            "_view_count": null,
            "_view_module": "@jupyter-widgets/controls",
            "_view_module_version": "1.5.0",
            "_view_name": "ProgressView",
            "bar_style": "success",
            "description": "",
            "description_tooltip": null,
            "layout": "IPY_MODEL_5f348240266048f19529f8f0702b72cc",
            "max": 483,
            "min": 0,
            "orientation": "horizontal",
            "style": "IPY_MODEL_cc85c58c54b041f4ba8673d5216cf1cb",
            "value": 483
          }
        },
        "35d1f27781b44c5380eac13fb14b8174": {
          "model_module": "@jupyter-widgets/controls",
          "model_module_version": "1.5.0",
          "model_name": "DescriptionStyleModel",
          "state": {
            "_model_module": "@jupyter-widgets/controls",
            "_model_module_version": "1.5.0",
            "_model_name": "DescriptionStyleModel",
            "_view_count": null,
            "_view_module": "@jupyter-widgets/base",
            "_view_module_version": "1.2.0",
            "_view_name": "StyleView",
            "description_width": ""
          }
        },
        "39b5d6ce99b8411ba8aadd10c93495e9": {
          "model_module": "@jupyter-widgets/controls",
          "model_module_version": "1.5.0",
          "model_name": "HTMLModel",
          "state": {
            "_dom_classes": [],
            "_model_module": "@jupyter-widgets/controls",
            "_model_module_version": "1.5.0",
            "_model_name": "HTMLModel",
            "_view_count": null,
            "_view_module": "@jupyter-widgets/controls",
            "_view_module_version": "1.5.0",
            "_view_name": "HTMLView",
            "description": "",
            "description_tooltip": null,
            "layout": "IPY_MODEL_f801fe5aa22f45b3a9a56fbd674eee3c",
            "placeholder": "​",
            "style": "IPY_MODEL_d0af9b4cd2b148d1a1a55c4ef4c74581",
            "value": "model.safetensors: 100%"
          }
        },
        "4922f05fdedf4b93b8483a30facf4351": {
          "model_module": "@jupyter-widgets/controls",
          "model_module_version": "1.5.0",
          "model_name": "DescriptionStyleModel",
          "state": {
            "_model_module": "@jupyter-widgets/controls",
            "_model_module_version": "1.5.0",
            "_model_name": "DescriptionStyleModel",
            "_view_count": null,
            "_view_module": "@jupyter-widgets/base",
            "_view_module_version": "1.2.0",
            "_view_name": "StyleView",
            "description_width": ""
          }
        },
        "5f348240266048f19529f8f0702b72cc": {
          "model_module": "@jupyter-widgets/base",
          "model_module_version": "1.2.0",
          "model_name": "LayoutModel",
          "state": {
            "_model_module": "@jupyter-widgets/base",
            "_model_module_version": "1.2.0",
            "_model_name": "LayoutModel",
            "_view_count": null,
            "_view_module": "@jupyter-widgets/base",
            "_view_module_version": "1.2.0",
            "_view_name": "LayoutView",
            "align_content": null,
            "align_items": null,
            "align_self": null,
            "border": null,
            "bottom": null,
            "display": null,
            "flex": null,
            "flex_flow": null,
            "grid_area": null,
            "grid_auto_columns": null,
            "grid_auto_flow": null,
            "grid_auto_rows": null,
            "grid_column": null,
            "grid_gap": null,
            "grid_row": null,
            "grid_template_areas": null,
            "grid_template_columns": null,
            "grid_template_rows": null,
            "height": null,
            "justify_content": null,
            "justify_items": null,
            "left": null,
            "margin": null,
            "max_height": null,
            "max_width": null,
            "min_height": null,
            "min_width": null,
            "object_fit": null,
            "object_position": null,
            "order": null,
            "overflow": null,
            "overflow_x": null,
            "overflow_y": null,
            "padding": null,
            "right": null,
            "top": null,
            "visibility": null,
            "width": null
          }
        },
        "61fcbfb8ece34d7b8c72ea7f2a693101": {
          "model_module": "@jupyter-widgets/base",
          "model_module_version": "1.2.0",
          "model_name": "LayoutModel",
          "state": {
            "_model_module": "@jupyter-widgets/base",
            "_model_module_version": "1.2.0",
            "_model_name": "LayoutModel",
            "_view_count": null,
            "_view_module": "@jupyter-widgets/base",
            "_view_module_version": "1.2.0",
            "_view_name": "LayoutView",
            "align_content": null,
            "align_items": null,
            "align_self": null,
            "border": null,
            "bottom": null,
            "display": null,
            "flex": null,
            "flex_flow": null,
            "grid_area": null,
            "grid_auto_columns": null,
            "grid_auto_flow": null,
            "grid_auto_rows": null,
            "grid_column": null,
            "grid_gap": null,
            "grid_row": null,
            "grid_template_areas": null,
            "grid_template_columns": null,
            "grid_template_rows": null,
            "height": null,
            "justify_content": null,
            "justify_items": null,
            "left": null,
            "margin": null,
            "max_height": null,
            "max_width": null,
            "min_height": null,
            "min_width": null,
            "object_fit": null,
            "object_position": null,
            "order": null,
            "overflow": null,
            "overflow_x": null,
            "overflow_y": null,
            "padding": null,
            "right": null,
            "top": null,
            "visibility": null,
            "width": null
          }
        },
        "68ddeddafd4545cf90d3815eff0765d9": {
          "model_module": "@jupyter-widgets/controls",
          "model_module_version": "1.5.0",
          "model_name": "DescriptionStyleModel",
          "state": {
            "_model_module": "@jupyter-widgets/controls",
            "_model_module_version": "1.5.0",
            "_model_name": "DescriptionStyleModel",
            "_view_count": null,
            "_view_module": "@jupyter-widgets/base",
            "_view_module_version": "1.2.0",
            "_view_name": "StyleView",
            "description_width": ""
          }
        },
        "69922443b6ea4d6ca0c65e7915786ff2": {
          "model_module": "@jupyter-widgets/base",
          "model_module_version": "1.2.0",
          "model_name": "LayoutModel",
          "state": {
            "_model_module": "@jupyter-widgets/base",
            "_model_module_version": "1.2.0",
            "_model_name": "LayoutModel",
            "_view_count": null,
            "_view_module": "@jupyter-widgets/base",
            "_view_module_version": "1.2.0",
            "_view_name": "LayoutView",
            "align_content": null,
            "align_items": null,
            "align_self": null,
            "border": null,
            "bottom": null,
            "display": null,
            "flex": null,
            "flex_flow": null,
            "grid_area": null,
            "grid_auto_columns": null,
            "grid_auto_flow": null,
            "grid_auto_rows": null,
            "grid_column": null,
            "grid_gap": null,
            "grid_row": null,
            "grid_template_areas": null,
            "grid_template_columns": null,
            "grid_template_rows": null,
            "height": null,
            "justify_content": null,
            "justify_items": null,
            "left": null,
            "margin": null,
            "max_height": null,
            "max_width": null,
            "min_height": null,
            "min_width": null,
            "object_fit": null,
            "object_position": null,
            "order": null,
            "overflow": null,
            "overflow_x": null,
            "overflow_y": null,
            "padding": null,
            "right": null,
            "top": null,
            "visibility": null,
            "width": null
          }
        },
        "739b071f97ad4e17891d1d6bac78f831": {
          "model_module": "@jupyter-widgets/base",
          "model_module_version": "1.2.0",
          "model_name": "LayoutModel",
          "state": {
            "_model_module": "@jupyter-widgets/base",
            "_model_module_version": "1.2.0",
            "_model_name": "LayoutModel",
            "_view_count": null,
            "_view_module": "@jupyter-widgets/base",
            "_view_module_version": "1.2.0",
            "_view_name": "LayoutView",
            "align_content": null,
            "align_items": null,
            "align_self": null,
            "border": null,
            "bottom": null,
            "display": null,
            "flex": null,
            "flex_flow": null,
            "grid_area": null,
            "grid_auto_columns": null,
            "grid_auto_flow": null,
            "grid_auto_rows": null,
            "grid_column": null,
            "grid_gap": null,
            "grid_row": null,
            "grid_template_areas": null,
            "grid_template_columns": null,
            "grid_template_rows": null,
            "height": null,
            "justify_content": null,
            "justify_items": null,
            "left": null,
            "margin": null,
            "max_height": null,
            "max_width": null,
            "min_height": null,
            "min_width": null,
            "object_fit": null,
            "object_position": null,
            "order": null,
            "overflow": null,
            "overflow_x": null,
            "overflow_y": null,
            "padding": null,
            "right": null,
            "top": null,
            "visibility": null,
            "width": null
          }
        },
        "76687013130c44a88e4e648505b9bd28": {
          "model_module": "@jupyter-widgets/controls",
          "model_module_version": "1.5.0",
          "model_name": "HTMLModel",
          "state": {
            "_dom_classes": [],
            "_model_module": "@jupyter-widgets/controls",
            "_model_module_version": "1.5.0",
            "_model_name": "HTMLModel",
            "_view_count": null,
            "_view_module": "@jupyter-widgets/controls",
            "_view_module_version": "1.5.0",
            "_view_name": "HTMLView",
            "description": "",
            "description_tooltip": null,
            "layout": "IPY_MODEL_06a8d83ea124489781af20bfceb6b177",
            "placeholder": "​",
            "style": "IPY_MODEL_35d1f27781b44c5380eac13fb14b8174",
            "value": "100%"
          }
        },
        "7a5e598d2c4b42a497d6a45a996639b4": {
          "model_module": "@jupyter-widgets/controls",
          "model_module_version": "1.5.0",
          "model_name": "DescriptionStyleModel",
          "state": {
            "_model_module": "@jupyter-widgets/controls",
            "_model_module_version": "1.5.0",
            "_model_name": "DescriptionStyleModel",
            "_view_count": null,
            "_view_module": "@jupyter-widgets/base",
            "_view_module_version": "1.2.0",
            "_view_name": "StyleView",
            "description_width": ""
          }
        },
        "a1a86eadbd8f47f6bf6de28a76498a83": {
          "model_module": "@jupyter-widgets/base",
          "model_module_version": "1.2.0",
          "model_name": "LayoutModel",
          "state": {
            "_model_module": "@jupyter-widgets/base",
            "_model_module_version": "1.2.0",
            "_model_name": "LayoutModel",
            "_view_count": null,
            "_view_module": "@jupyter-widgets/base",
            "_view_module_version": "1.2.0",
            "_view_name": "LayoutView",
            "align_content": null,
            "align_items": null,
            "align_self": null,
            "border": null,
            "bottom": null,
            "display": null,
            "flex": null,
            "flex_flow": null,
            "grid_area": null,
            "grid_auto_columns": null,
            "grid_auto_flow": null,
            "grid_auto_rows": null,
            "grid_column": null,
            "grid_gap": null,
            "grid_row": null,
            "grid_template_areas": null,
            "grid_template_columns": null,
            "grid_template_rows": null,
            "height": null,
            "justify_content": null,
            "justify_items": null,
            "left": null,
            "margin": null,
            "max_height": null,
            "max_width": null,
            "min_height": null,
            "min_width": null,
            "object_fit": null,
            "object_position": null,
            "order": null,
            "overflow": null,
            "overflow_x": null,
            "overflow_y": null,
            "padding": null,
            "right": null,
            "top": null,
            "visibility": null,
            "width": null
          }
        },
        "a68de713e7db4e5f83447883e3f31335": {
          "model_module": "@jupyter-widgets/controls",
          "model_module_version": "1.5.0",
          "model_name": "HTMLModel",
          "state": {
            "_dom_classes": [],
            "_model_module": "@jupyter-widgets/controls",
            "_model_module_version": "1.5.0",
            "_model_name": "HTMLModel",
            "_view_count": null,
            "_view_module": "@jupyter-widgets/controls",
            "_view_module_version": "1.5.0",
            "_view_name": "HTMLView",
            "description": "",
            "description_tooltip": null,
            "layout": "IPY_MODEL_739b071f97ad4e17891d1d6bac78f831",
            "placeholder": "​",
            "style": "IPY_MODEL_4922f05fdedf4b93b8483a30facf4351",
            "value": " 268M/268M [00:02&lt;00:00, 180MB/s]"
          }
        },
        "acc2fd8c05f04fceaee1f19feae84807": {
          "model_module": "@jupyter-widgets/base",
          "model_module_version": "1.2.0",
          "model_name": "LayoutModel",
          "state": {
            "_model_module": "@jupyter-widgets/base",
            "_model_module_version": "1.2.0",
            "_model_name": "LayoutModel",
            "_view_count": null,
            "_view_module": "@jupyter-widgets/base",
            "_view_module_version": "1.2.0",
            "_view_name": "LayoutView",
            "align_content": null,
            "align_items": null,
            "align_self": null,
            "border": null,
            "bottom": null,
            "display": null,
            "flex": null,
            "flex_flow": null,
            "grid_area": null,
            "grid_auto_columns": null,
            "grid_auto_flow": null,
            "grid_auto_rows": null,
            "grid_column": null,
            "grid_gap": null,
            "grid_row": null,
            "grid_template_areas": null,
            "grid_template_columns": null,
            "grid_template_rows": null,
            "height": null,
            "justify_content": null,
            "justify_items": null,
            "left": null,
            "margin": null,
            "max_height": null,
            "max_width": null,
            "min_height": null,
            "min_width": null,
            "object_fit": null,
            "object_position": null,
            "order": null,
            "overflow": null,
            "overflow_x": null,
            "overflow_y": null,
            "padding": null,
            "right": null,
            "top": null,
            "visibility": null,
            "width": null
          }
        },
        "bddb6f5b8ab7430aa8c8236961e17f31": {
          "model_module": "@jupyter-widgets/controls",
          "model_module_version": "1.5.0",
          "model_name": "FloatProgressModel",
          "state": {
            "_dom_classes": [],
            "_model_module": "@jupyter-widgets/controls",
            "_model_module_version": "1.5.0",
            "_model_name": "FloatProgressModel",
            "_view_count": null,
            "_view_module": "@jupyter-widgets/controls",
            "_view_module_version": "1.5.0",
            "_view_name": "ProgressView",
            "bar_style": "success",
            "description": "",
            "description_tooltip": null,
            "layout": "IPY_MODEL_1c24f04bf4b1413990657f47a1f22ebd",
            "max": 267954768,
            "min": 0,
            "orientation": "horizontal",
            "style": "IPY_MODEL_f4384e69301f43e28c5802955e9acb31",
            "value": 267954768
          }
        },
        "c557ca4fcfb649a68ecf02b22803f1ec": {
          "model_module": "@jupyter-widgets/controls",
          "model_module_version": "1.5.0",
          "model_name": "HTMLModel",
          "state": {
            "_dom_classes": [],
            "_model_module": "@jupyter-widgets/controls",
            "_model_module_version": "1.5.0",
            "_model_name": "HTMLModel",
            "_view_count": null,
            "_view_module": "@jupyter-widgets/controls",
            "_view_module_version": "1.5.0",
            "_view_name": "HTMLView",
            "description": "",
            "description_tooltip": null,
            "layout": "IPY_MODEL_a1a86eadbd8f47f6bf6de28a76498a83",
            "placeholder": "​",
            "style": "IPY_MODEL_e25ff08b8dec46cc809afe6e681881ac",
            "value": " 483/483 [00:00&lt;00:00, 13.6kB/s]"
          }
        },
        "cc85c58c54b041f4ba8673d5216cf1cb": {
          "model_module": "@jupyter-widgets/controls",
          "model_module_version": "1.5.0",
          "model_name": "ProgressStyleModel",
          "state": {
            "_model_module": "@jupyter-widgets/controls",
            "_model_module_version": "1.5.0",
            "_model_name": "ProgressStyleModel",
            "_view_count": null,
            "_view_module": "@jupyter-widgets/base",
            "_view_module_version": "1.2.0",
            "_view_name": "StyleView",
            "bar_color": null,
            "description_width": ""
          }
        },
        "cc89ab91634c44d8b360d8f673376b7a": {
          "model_module": "@jupyter-widgets/controls",
          "model_module_version": "1.5.0",
          "model_name": "HBoxModel",
          "state": {
            "_dom_classes": [],
            "_model_module": "@jupyter-widgets/controls",
            "_model_module_version": "1.5.0",
            "_model_name": "HBoxModel",
            "_view_count": null,
            "_view_module": "@jupyter-widgets/controls",
            "_view_module_version": "1.5.0",
            "_view_name": "HBoxView",
            "box_style": "",
            "children": [
              "IPY_MODEL_76687013130c44a88e4e648505b9bd28",
              "IPY_MODEL_d286d6cd432148938772f131b89f5b34",
              "IPY_MODEL_13ce3ca3acd148ff81626e5062008bd7"
            ],
            "layout": "IPY_MODEL_69922443b6ea4d6ca0c65e7915786ff2"
          }
        },
        "cf37410a785c48da8d128043a7f80849": {
          "model_module": "@jupyter-widgets/controls",
          "model_module_version": "1.5.0",
          "model_name": "ProgressStyleModel",
          "state": {
            "_model_module": "@jupyter-widgets/controls",
            "_model_module_version": "1.5.0",
            "_model_name": "ProgressStyleModel",
            "_view_count": null,
            "_view_module": "@jupyter-widgets/base",
            "_view_module_version": "1.2.0",
            "_view_name": "StyleView",
            "bar_color": null,
            "description_width": ""
          }
        },
        "d080734055a048308f72e97d25eaec19": {
          "model_module": "@jupyter-widgets/base",
          "model_module_version": "1.2.0",
          "model_name": "LayoutModel",
          "state": {
            "_model_module": "@jupyter-widgets/base",
            "_model_module_version": "1.2.0",
            "_model_name": "LayoutModel",
            "_view_count": null,
            "_view_module": "@jupyter-widgets/base",
            "_view_module_version": "1.2.0",
            "_view_name": "LayoutView",
            "align_content": null,
            "align_items": null,
            "align_self": null,
            "border": null,
            "bottom": null,
            "display": null,
            "flex": null,
            "flex_flow": null,
            "grid_area": null,
            "grid_auto_columns": null,
            "grid_auto_flow": null,
            "grid_auto_rows": null,
            "grid_column": null,
            "grid_gap": null,
            "grid_row": null,
            "grid_template_areas": null,
            "grid_template_columns": null,
            "grid_template_rows": null,
            "height": null,
            "justify_content": null,
            "justify_items": null,
            "left": null,
            "margin": null,
            "max_height": null,
            "max_width": null,
            "min_height": null,
            "min_width": null,
            "object_fit": null,
            "object_position": null,
            "order": null,
            "overflow": null,
            "overflow_x": null,
            "overflow_y": null,
            "padding": null,
            "right": null,
            "top": null,
            "visibility": null,
            "width": null
          }
        },
        "d0af9b4cd2b148d1a1a55c4ef4c74581": {
          "model_module": "@jupyter-widgets/controls",
          "model_module_version": "1.5.0",
          "model_name": "DescriptionStyleModel",
          "state": {
            "_model_module": "@jupyter-widgets/controls",
            "_model_module_version": "1.5.0",
            "_model_name": "DescriptionStyleModel",
            "_view_count": null,
            "_view_module": "@jupyter-widgets/base",
            "_view_module_version": "1.2.0",
            "_view_name": "StyleView",
            "description_width": ""
          }
        },
        "d286d6cd432148938772f131b89f5b34": {
          "model_module": "@jupyter-widgets/controls",
          "model_module_version": "1.5.0",
          "model_name": "FloatProgressModel",
          "state": {
            "_dom_classes": [],
            "_model_module": "@jupyter-widgets/controls",
            "_model_module_version": "1.5.0",
            "_model_name": "FloatProgressModel",
            "_view_count": null,
            "_view_module": "@jupyter-widgets/controls",
            "_view_module_version": "1.5.0",
            "_view_name": "ProgressView",
            "bar_style": "success",
            "description": "",
            "description_tooltip": null,
            "layout": "IPY_MODEL_0a654ed42ccf45d98cf7cfe79c03190b",
            "max": 220,
            "min": 0,
            "orientation": "horizontal",
            "style": "IPY_MODEL_cf37410a785c48da8d128043a7f80849",
            "value": 220
          }
        },
        "d80514a5972349efaded304a6e323612": {
          "model_module": "@jupyter-widgets/controls",
          "model_module_version": "1.5.0",
          "model_name": "HTMLModel",
          "state": {
            "_dom_classes": [],
            "_model_module": "@jupyter-widgets/controls",
            "_model_module_version": "1.5.0",
            "_model_name": "HTMLModel",
            "_view_count": null,
            "_view_module": "@jupyter-widgets/controls",
            "_view_module_version": "1.5.0",
            "_view_name": "HTMLView",
            "description": "",
            "description_tooltip": null,
            "layout": "IPY_MODEL_d080734055a048308f72e97d25eaec19",
            "placeholder": "​",
            "style": "IPY_MODEL_68ddeddafd4545cf90d3815eff0765d9",
            "value": "config.json: 100%"
          }
        },
        "dabd5de6ab27481ba7323b7309671343": {
          "model_module": "@jupyter-widgets/controls",
          "model_module_version": "1.5.0",
          "model_name": "HBoxModel",
          "state": {
            "_dom_classes": [],
            "_model_module": "@jupyter-widgets/controls",
            "_model_module_version": "1.5.0",
            "_model_name": "HBoxModel",
            "_view_count": null,
            "_view_module": "@jupyter-widgets/controls",
            "_view_module_version": "1.5.0",
            "_view_name": "HBoxView",
            "box_style": "",
            "children": [
              "IPY_MODEL_39b5d6ce99b8411ba8aadd10c93495e9",
              "IPY_MODEL_bddb6f5b8ab7430aa8c8236961e17f31",
              "IPY_MODEL_a68de713e7db4e5f83447883e3f31335"
            ],
            "layout": "IPY_MODEL_61fcbfb8ece34d7b8c72ea7f2a693101"
          }
        },
        "e25ff08b8dec46cc809afe6e681881ac": {
          "model_module": "@jupyter-widgets/controls",
          "model_module_version": "1.5.0",
          "model_name": "DescriptionStyleModel",
          "state": {
            "_model_module": "@jupyter-widgets/controls",
            "_model_module_version": "1.5.0",
            "_model_name": "DescriptionStyleModel",
            "_view_count": null,
            "_view_module": "@jupyter-widgets/base",
            "_view_module_version": "1.2.0",
            "_view_name": "StyleView",
            "description_width": ""
          }
        },
        "f2d663dc601543a0b220c4196a42069b": {
          "model_module": "@jupyter-widgets/base",
          "model_module_version": "1.2.0",
          "model_name": "LayoutModel",
          "state": {
            "_model_module": "@jupyter-widgets/base",
            "_model_module_version": "1.2.0",
            "_model_name": "LayoutModel",
            "_view_count": null,
            "_view_module": "@jupyter-widgets/base",
            "_view_module_version": "1.2.0",
            "_view_name": "LayoutView",
            "align_content": null,
            "align_items": null,
            "align_self": null,
            "border": null,
            "bottom": null,
            "display": null,
            "flex": null,
            "flex_flow": null,
            "grid_area": null,
            "grid_auto_columns": null,
            "grid_auto_flow": null,
            "grid_auto_rows": null,
            "grid_column": null,
            "grid_gap": null,
            "grid_row": null,
            "grid_template_areas": null,
            "grid_template_columns": null,
            "grid_template_rows": null,
            "height": null,
            "justify_content": null,
            "justify_items": null,
            "left": null,
            "margin": null,
            "max_height": null,
            "max_width": null,
            "min_height": null,
            "min_width": null,
            "object_fit": null,
            "object_position": null,
            "order": null,
            "overflow": null,
            "overflow_x": null,
            "overflow_y": null,
            "padding": null,
            "right": null,
            "top": null,
            "visibility": null,
            "width": null
          }
        },
        "f4384e69301f43e28c5802955e9acb31": {
          "model_module": "@jupyter-widgets/controls",
          "model_module_version": "1.5.0",
          "model_name": "ProgressStyleModel",
          "state": {
            "_model_module": "@jupyter-widgets/controls",
            "_model_module_version": "1.5.0",
            "_model_name": "ProgressStyleModel",
            "_view_count": null,
            "_view_module": "@jupyter-widgets/base",
            "_view_module_version": "1.2.0",
            "_view_name": "StyleView",
            "bar_color": null,
            "description_width": ""
          }
        },
        "f801fe5aa22f45b3a9a56fbd674eee3c": {
          "model_module": "@jupyter-widgets/base",
          "model_module_version": "1.2.0",
          "model_name": "LayoutModel",
          "state": {
            "_model_module": "@jupyter-widgets/base",
            "_model_module_version": "1.2.0",
            "_model_name": "LayoutModel",
            "_view_count": null,
            "_view_module": "@jupyter-widgets/base",
            "_view_module_version": "1.2.0",
            "_view_name": "LayoutView",
            "align_content": null,
            "align_items": null,
            "align_self": null,
            "border": null,
            "bottom": null,
            "display": null,
            "flex": null,
            "flex_flow": null,
            "grid_area": null,
            "grid_auto_columns": null,
            "grid_auto_flow": null,
            "grid_auto_rows": null,
            "grid_column": null,
            "grid_gap": null,
            "grid_row": null,
            "grid_template_areas": null,
            "grid_template_columns": null,
            "grid_template_rows": null,
            "height": null,
            "justify_content": null,
            "justify_items": null,
            "left": null,
            "margin": null,
            "max_height": null,
            "max_width": null,
            "min_height": null,
            "min_width": null,
            "object_fit": null,
            "object_position": null,
            "order": null,
            "overflow": null,
            "overflow_x": null,
            "overflow_y": null,
            "padding": null,
            "right": null,
            "top": null,
            "visibility": null,
            "width": null
          }
        }
      }
    }
  },
  "nbformat": 4,
  "nbformat_minor": 0
}
